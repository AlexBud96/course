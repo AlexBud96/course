{
 "cells": [
  {
   "cell_type": "code",
   "execution_count": 13,
   "metadata": {
    "collapsed": false
   },
   "outputs": [
    {
     "name": "stdout",
     "output_type": "stream",
     "text": [
      "3.5.2 (v3.5.2:4def2a2901a5, Jun 26 2016, 10:47:25) \n",
      "[GCC 4.2.1 (Apple Inc. build 5666) (dot 3)]\n"
     ]
    }
   ],
   "source": [
    "import sys\n",
    "print(sys.version)"
   ]
  },
  {
   "cell_type": "markdown",
   "metadata": {},
   "source": [
    "# Все есть объект, что это значит"
   ]
  },
  {
   "cell_type": "markdown",
   "metadata": {},
   "source": [
    "Очень часто можно услышать такую фразу в отношении Python. Что это значит и какое влияние оказывает на программирование на языке?"
   ]
  },
  {
   "cell_type": "code",
   "execution_count": 14,
   "metadata": {
    "collapsed": true
   },
   "outputs": [],
   "source": [
    "# Объявим переменную\n",
    "num = 10"
   ]
  },
  {
   "cell_type": "code",
   "execution_count": 15,
   "metadata": {
    "collapsed": false
   },
   "outputs": [
    {
     "data": {
      "text/plain": [
       "<method-wrapper '__add__' of int object at 0x100275c60>"
      ]
     },
     "execution_count": 15,
     "metadata": {},
     "output_type": "execute_result"
    }
   ],
   "source": [
    "# На самом деле num - это не имя переменной, ссылающейся на численное значение в памяти, а имя, связанное с объектом.\n",
    "num.__add__"
   ]
  },
  {
   "cell_type": "code",
   "execution_count": 16,
   "metadata": {
    "collapsed": false
   },
   "outputs": [],
   "source": [
    "# И даже больше\n",
    "# dir(num)"
   ]
  },
  {
   "cell_type": "markdown",
   "metadata": {},
   "source": [
    "Все типы в Python \"отнаследованы\" (на самом деле речь скорее о композиции) от С структуры PyObject:\n",
    "```\n",
    "typedef struct _object {\n",
    "    _PyObject_HEAD_EXTRA\n",
    "    Py_ssize_t ob_refcnt;\n",
    "    struct _typeobject *ob_type;\n",
    "} PyObject;\n",
    "```\n",
    "Или от PyVarObject:\n",
    "```\n",
    "typedef struct {\n",
    "    PyObject ob_base;\n",
    "    Py_ssize_t ob_size; /* Number of items in variable part */\n",
    "} PyVarObject;\n",
    "```\n",
    "Включающей ддополнительно размер данных в низлежащем типе данных.\n",
    "\n",
    "_typeobject - тип объекта, это структура, посволяющая Питону определять тип объекта в рантайме, содержащая все методы, необходимые для работы с типом. https://github.com/python/cpython/blob/d65c5d2db6b1429a6d61a648836913542766466f/Include/object.h#L346\n",
    "\n",
    "_PyObject_HEAD_EXTRA - макро, включающей в себя указатели на предыдущий и следующий объекты, живущие в куче (heap).\n",
    "\n",
    "```\n",
    "#define _PyObject_HEAD_EXTRA            \\\n",
    "    struct _object *_ob_next;           \\\n",
    "    struct _object *_ob_prev;\n",
    "```\n",
    "\n",
    "PyObject_HEAD - макро, включающий в себя определение PyObject, PyObject_VAR_HEAD - макро для PyVarObject. Они используются для определения любого нового типа в Python. Тем самым любой объект в конечном итоге может быть скастован в PyObject.\n",
    "```\n",
    "typedef struct PyMyObject {\n",
    "   PyObject_HEAD\n",
    "   ...\n",
    "}\n",
    "```\n",
    "\n",
    "Объявления в исходном коде: https://github.com/python/cpython/blob/d65c5d2db6b1429a6d61a648836913542766466f/Include/object.h\n",
    "\n",
    "Основные типы можно найти в папке `Objects` в исходном коде Python:\n",
    "\n",
    "* int - Include/longobject.h, Objects/longobject.c \n",
    "* str - Include/unicodeobject.h, Objects/unicodeobject.c \n",
    "* list - Include/listobject.h, Objects/listobject.c\n",
    "* class - Include/classobject.h, Objects/classobject.c\n",
    "* function - Include/funcobject.h, Objects/funcobject.c\n",
    "* module - Include/moduleobject.h, Objects/moduleobject.c\n",
    "\n",
    "И другие!\n",
    "\n",
    "Первое, что важно из утверждения, что все в Питоне есть объект - все может быть присвоено переменной и передано как аргумент в функцию. Не только ф-ии или классы, но и, например, модули.\n",
    "\n",
    "Также знать это нужно, чтобы понять следующий момент: как работает присваивание."
   ]
  },
  {
   "cell_type": "markdown",
   "metadata": {},
   "source": [
    "## По ссылке или по значению? (Часть 1)"
   ]
  },
  {
   "cell_type": "code",
   "execution_count": 17,
   "metadata": {
    "collapsed": true
   },
   "outputs": [],
   "source": [
    "# создаем связь имени переменной foo cо строковым объектом\n",
    "foo = \"Испания\"\n",
    "\n",
    "# связываем имя с новым строковым объектом, строковый объект со строкой \"Испания\" остался нетронутым.\n",
    "# В этот момент на куче живет 2 объекта. Один из них сборщик мусора может удалить, но для нас важно не это.\n",
    "foo = \"Бразилия\""
   ]
  },
  {
   "cell_type": "markdown",
   "metadata": {},
   "source": [
    "При этом в Python имя, привязанное к объекту, используется только в пределах скоупа (scope), в котором имя объявлено. Scope имени определяется блоком питоновского кода. Блоками являются модуль, определение класса, тело функции. Scope имени определяется блоком, в котором имя определено. Интерпретатор при обращении к переменной ищет ее имя начиная с локального пространства имен, затем у внешних пока не достигает глобального пространства имен."
   ]
  },
  {
   "cell_type": "code",
   "execution_count": 18,
   "metadata": {
    "collapsed": false
   },
   "outputs": [
    {
     "name": "stdout",
     "output_type": "stream",
     "text": [
      "12\n"
     ]
    }
   ],
   "source": [
    "top_level = 3\n",
    "\n",
    "def print_result():\n",
    "\n",
    "    inner_level = 4\n",
    "    \n",
    "    def print_formatted_calculation():\n",
    "        print(top_level * inner_level)\n",
    "\n",
    "    print_formatted_calculation()\n",
    "\n",
    "print_result()    "
   ]
  },
  {
   "cell_type": "markdown",
   "metadata": {},
   "source": [
    "Чуть более сложный пример"
   ]
  },
  {
   "cell_type": "code",
   "execution_count": 19,
   "metadata": {
    "collapsed": false
   },
   "outputs": [],
   "source": [
    "country = 'Испания'\n",
    "\n",
    "countries = []\n",
    "countries.append(country)\n",
    "\n",
    "another_list_of_countries = countries\n",
    "another_list_of_countries.append('Бразилия')\n",
    "\n",
    "country = 'Россия'\n",
    "\n",
    "#print(country, countries, another_list_of_countries)"
   ]
  },
  {
   "cell_type": "markdown",
   "metadata": {},
   "source": [
    "Упс, появилась первая структура данных - list (список). Пожалуй, сначала рассмотрим ее, а потом вернемся к этому примеру."
   ]
  },
  {
   "cell_type": "markdown",
   "metadata": {},
   "source": [
    "# Структуры данных"
   ]
  },
  {
   "cell_type": "markdown",
   "metadata": {},
   "source": [
    "Мы рассмотрим для начала структуры данных, доступные \"из коробки\""
   ]
  },
  {
   "cell_type": "code",
   "execution_count": 20,
   "metadata": {
    "collapsed": false
   },
   "outputs": [
    {
     "data": {
      "text/plain": [
       "(list, tuple, dict, set, frozenset)"
      ]
     },
     "execution_count": 20,
     "metadata": {},
     "output_type": "execute_result"
    }
   ],
   "source": [
    "# built-in структуры данных\n",
    "list, tuple, dict, set, frozenset"
   ]
  },
  {
   "cell_type": "markdown",
   "metadata": {},
   "source": [
    "## Список: list"
   ]
  },
  {
   "cell_type": "markdown",
   "metadata": {},
   "source": [
    "Sequence тип. Позволяет хранить последовательность элементов одного или разного типа. Это не linked list!"
   ]
  },
  {
   "cell_type": "code",
   "execution_count": 21,
   "metadata": {
    "collapsed": false
   },
   "outputs": [
    {
     "data": {
      "text/plain": [
       "64"
      ]
     },
     "execution_count": 21,
     "metadata": {},
     "output_type": "execute_result"
    }
   ],
   "source": [
    "# создаем list используя квадратные скобки или ф-ю list\n",
    "empty_list = []\n",
    "empty_list = list()\n",
    "sys.getsizeof(empty_list)"
   ]
  },
  {
   "cell_type": "code",
   "execution_count": 22,
   "metadata": {
    "collapsed": false
   },
   "outputs": [
    {
     "name": "stdout",
     "output_type": "stream",
     "text": [
      "1\n",
      "True\n",
      "a\n"
     ]
    }
   ],
   "source": [
    "# list может содержать любые объекты, внутри Python они хранятся как массив указателей\n",
    "example_list = [1, True, \"a\"]\n",
    "for element in example_list:\n",
    "    print(element)"
   ]
  },
  {
   "cell_type": "code",
   "execution_count": 23,
   "metadata": {
    "collapsed": false
   },
   "outputs": [
    {
     "data": {
      "text/plain": [
       "80"
      ]
     },
     "execution_count": 23,
     "metadata": {},
     "output_type": "execute_result"
    }
   ],
   "source": [
    "list_of_lists = [example_list, example_list]\n",
    "sys.getsizeof(list_of_lists)"
   ]
  },
  {
   "cell_type": "code",
   "execution_count": 24,
   "metadata": {
    "collapsed": false
   },
   "outputs": [
    {
     "data": {
      "text/plain": [
       "['first', 1, True, 'a', 'last']"
      ]
     },
     "execution_count": 24,
     "metadata": {},
     "output_type": "execute_result"
    }
   ],
   "source": [
    "# добавляем элемент в конец списка\n",
    "example_list.append(\"last\")\n",
    "example_list\n",
    "# добавляем элемент в начало\n",
    "example_list.insert(0, \"first\")\n",
    "example_list"
   ]
  },
  {
   "cell_type": "code",
   "execution_count": 25,
   "metadata": {
    "collapsed": false
   },
   "outputs": [
    {
     "name": "stdout",
     "output_type": "stream",
     "text": [
      "10000 loops, best of 3: 251 ns per loop\n"
     ]
    }
   ],
   "source": [
    "benchmark_list = []\n",
    "%timeit -n10000 benchmark_list.append(\"last\")"
   ]
  },
  {
   "cell_type": "code",
   "execution_count": 26,
   "metadata": {
    "collapsed": false
   },
   "outputs": [
    {
     "name": "stdout",
     "output_type": "stream",
     "text": [
      "10000 loops, best of 3: 6.45 µs per loop\n"
     ]
    }
   ],
   "source": [
    "benchmark_list = []\n",
    "%timeit -n10000 benchmark_list.insert(0, \"first\")"
   ]
  },
  {
   "cell_type": "code",
   "execution_count": 27,
   "metadata": {
    "collapsed": false
   },
   "outputs": [
    {
     "name": "stdout",
     "output_type": "stream",
     "text": [
      "0\n",
      "5\n"
     ]
    }
   ],
   "source": [
    "example_list = [0, 1, 2, 3, 4, 5]\n",
    "\n",
    "# доступ к элементу\n",
    "print(example_list[0])\n",
    "print(example_list[-1])"
   ]
  },
  {
   "cell_type": "code",
   "execution_count": 29,
   "metadata": {
    "collapsed": false
   },
   "outputs": [
    {
     "ename": "IndexError",
     "evalue": "list index out of range",
     "output_type": "error",
     "traceback": [
      "\u001b[0;31m---------------------------------------------------------------------------\u001b[0m",
      "\u001b[0;31mIndexError\u001b[0m                                Traceback (most recent call last)",
      "\u001b[0;32m<ipython-input-29-dea362dd6bfb>\u001b[0m in \u001b[0;36m<module>\u001b[0;34m()\u001b[0m\n\u001b[1;32m      1\u001b[0m \u001b[0;31m# Обращение к несуществующему индексу.\u001b[0m\u001b[0;34m\u001b[0m\u001b[0;34m\u001b[0m\u001b[0m\n\u001b[0;32m----> 2\u001b[0;31m \u001b[0mexample_list\u001b[0m\u001b[0;34m[\u001b[0m\u001b[0;36m100\u001b[0m\u001b[0;34m]\u001b[0m\u001b[0;34m\u001b[0m\u001b[0m\n\u001b[0m",
      "\u001b[0;31mIndexError\u001b[0m: list index out of range"
     ]
    }
   ],
   "source": [
    "# Обращение к несуществующему индексу.\n",
    "example_list[100]"
   ]
  },
  {
   "cell_type": "code",
   "execution_count": 30,
   "metadata": {
    "collapsed": false
   },
   "outputs": [
    {
     "name": "stdout",
     "output_type": "stream",
     "text": [
      "[2, 3, 4, 5]\n",
      "[2, 3]\n",
      "[0, 2, 4]\n",
      "5\n",
      "[0, 1, 2, 3, 4, 5]\n"
     ]
    }
   ],
   "source": [
    "print(example_list[2:])\n",
    "print(example_list[2:4])\n",
    "print(example_list[::2])\n",
    "print(example_list[-1])\n",
    "print(example_list)"
   ]
  },
  {
   "cell_type": "markdown",
   "metadata": {},
   "source": [
    "Продолжение следует..."
   ]
  },
  {
   "cell_type": "markdown",
   "metadata": {},
   "source": [
    "## По ссылке или по значению? (Часть 2)"
   ]
  },
  {
   "cell_type": "code",
   "execution_count": 31,
   "metadata": {
    "collapsed": true
   },
   "outputs": [],
   "source": [
    "country = 'Испания'\n",
    "\n",
    "countries = []\n",
    "countries.append(country)\n",
    "\n",
    "another_list_of_countries = countries\n",
    "another_list_of_countries.append('Бразилия')\n",
    "\n",
    "country = 'Россия'\n",
    "\n",
    "#print(country, countries, another_list_of_countries)"
   ]
  },
  {
   "cell_type": "markdown",
   "metadata": {},
   "source": [
    "В Python есть 2 типа объектов. Mutable (изменяемые) и Immutable (неизменяемые).\n",
    "\n",
    "Любые изменения в mutable объекте видны во всем привязанных к нему именах переменных. Список - пример изменяемого объекта.\n",
    "\n",
    "Значение неизменяемого объекта поменять нельзя, все что можно сделать - прочитать его. Примеры - строки, численные типы и т.д.\n",
    "\n",
    "Не все так просто, чуть позже на примере кортежа мы разберем, что несмотря на то, что кортеж - immutable объект, не верно считать, что он не изменяется.\n",
    "\n",
    "Теперь мы готовы посмотреть на передачу объекта как аргумент функции:"
   ]
  },
  {
   "cell_type": "code",
   "execution_count": 32,
   "metadata": {
    "collapsed": false
   },
   "outputs": [],
   "source": [
    "def foo(bar):\n",
    "    # bar в данном случае связь нового имени переменной с объектом, к которому привязан country_list.\n",
    "    # Этот объект mutable - следовательно ф-я изменит его.\n",
    "    bar.append(\"Испания\")\n",
    "\n",
    "country_list = []\n",
    "foo(country_list)\n",
    "#print(country_list)"
   ]
  },
  {
   "cell_type": "markdown",
   "metadata": {},
   "source": [
    "Теперь пример с неизменяемым объектом - строкой:"
   ]
  },
  {
   "cell_type": "code",
   "execution_count": 33,
   "metadata": {
    "collapsed": false
   },
   "outputs": [],
   "source": [
    "def foo(bar):\n",
    "    # bar это имя, которое связано с изначальным строковым объектом, \n",
    "    # но это связь имени и объекта в локальном пространстве ф-ии.\n",
    "    # так как bar в данном случае immutable - все что ф-я может \n",
    "    # сделать - изменить связь имени, привязав к новому объекту в своем \n",
    "    # локальном неймспейсе. Тем самым не повлияв на country из внешнего неймспейса.\n",
    "    bar = 'Бразилия'\n",
    "    #print(bar)\n",
    "\n",
    "country = 'Испания'\n",
    "foo(country)\n",
    "#print(country)"
   ]
  },
  {
   "cell_type": "markdown",
   "metadata": {},
   "source": [
    "Вывод - важно, что объект в Питоне передается как связь (binding) имени аргумента ф-ии c объектом (**pass-by-object**). По большому счету эта связь - новая ссылка на изначальный объект.\n",
    "\n",
    "В зависимости от того, изменяемый объект или нет можно понять, способна ли функция изменить его."
   ]
  },
  {
   "cell_type": "markdown",
   "metadata": {},
   "source": [
    "## Список: list, продолжение"
   ]
  },
  {
   "cell_type": "code",
   "execution_count": 34,
   "metadata": {
    "collapsed": false
   },
   "outputs": [
    {
     "name": "stdout",
     "output_type": "stream",
     "text": [
      "[100, 1, 2, 3, 4, 5]\n"
     ]
    }
   ],
   "source": [
    "# при простом присваивании новая переменная ссылается на тот же список\n",
    "another_list = example_list\n",
    "another_list[0] = 100\n",
    "print(example_list)"
   ]
  },
  {
   "cell_type": "code",
   "execution_count": 35,
   "metadata": {
    "collapsed": false
   },
   "outputs": [
    {
     "name": "stdout",
     "output_type": "stream",
     "text": [
      "[0, 1, 2, 3, 4, 5]\n"
     ]
    }
   ],
   "source": [
    "# копирование списка\n",
    "example_list = [0, 1, 2, 3, 4, 5]\n",
    "another_list = example_list[:]\n",
    "another_list[0] = 100\n",
    "print(example_list)"
   ]
  },
  {
   "cell_type": "code",
   "execution_count": 36,
   "metadata": {
    "collapsed": false
   },
   "outputs": [
    {
     "name": "stdout",
     "output_type": "stream",
     "text": [
      "[[1, 2, 3, 4], 1, 2, 3, 4, 5]\n"
     ]
    }
   ],
   "source": [
    "# но вложенные объекты не копируются (shallow copy)\n",
    "nested_list = [1, 2, 3]\n",
    "example_list = [nested_list, 1, 2, 3, 4, 5]\n",
    "another_list = example_list[:]\n",
    "nested_list.append(4)\n",
    "print(another_list)"
   ]
  },
  {
   "cell_type": "code",
   "execution_count": 37,
   "metadata": {
    "collapsed": false
   },
   "outputs": [
    {
     "name": "stdout",
     "output_type": "stream",
     "text": [
      "[[1, 2, 3], 1, 2, 3, 4, 5]\n"
     ]
    }
   ],
   "source": [
    "# используем ф-ю deepcopy из пакета copy\n",
    "from copy import deepcopy\n",
    "nested_list = [1, 2, 3]\n",
    "example_list = [nested_list, 1, 2, 3, 4, 5]\n",
    "another_list = deepcopy(example_list)\n",
    "nested_list.append(4)\n",
    "print(another_list)"
   ]
  },
  {
   "cell_type": "markdown",
   "metadata": {},
   "source": [
    "**Cамый простой пример из практики использования списков. Задача - соединить все числа от нуля до 10000 в одну длинную строку**\n"
   ]
  },
  {
   "cell_type": "code",
   "execution_count": 38,
   "metadata": {
    "collapsed": false
   },
   "outputs": [],
   "source": [
    "# плохое решение, каждое добавление строки приводит к выделению памяти на новую строку и копированию содержимого\n",
    "result_string = \"\"\n",
    "for i in range(10001):\n",
    "    result_string += str(i)\n",
    "\n",
    "# хорошее решение - использовать список, меньше аллокаций - выше производительность.\n",
    "string_buffer = []\n",
    "for i in range(10001):\n",
    "    string_buffer.append(str(i))\n",
    "result_string = \"\".join(string_buffer)"
   ]
  },
  {
   "cell_type": "markdown",
   "metadata": {},
   "source": [
    "## Кортеж: tuple"
   ]
  },
  {
   "cell_type": "markdown",
   "metadata": {},
   "source": [
    "* Неизменяемые (Immutable) => защищают данные\n",
    "* Быстрее списка\n",
    "* Хешируемые (Hashable)"
   ]
  },
  {
   "cell_type": "code",
   "execution_count": 39,
   "metadata": {
    "collapsed": false
   },
   "outputs": [
    {
     "data": {
      "text/plain": [
       "48"
      ]
     },
     "execution_count": 39,
     "metadata": {},
     "output_type": "execute_result"
    }
   ],
   "source": [
    "# создадим пустой tuple используя круглые скобки или ф-ю tuple\n",
    "empty_tuple = ()\n",
    "empty_tuple = tuple()\n",
    "sys.getsizeof(empty_tuple)"
   ]
  },
  {
   "cell_type": "code",
   "execution_count": 40,
   "metadata": {
    "collapsed": false
   },
   "outputs": [
    {
     "data": {
      "text/plain": [
       "0"
      ]
     },
     "execution_count": 40,
     "metadata": {},
     "output_type": "execute_result"
    }
   ],
   "source": [
    "len(empty_tuple)"
   ]
  },
  {
   "cell_type": "code",
   "execution_count": 41,
   "metadata": {
    "collapsed": false
   },
   "outputs": [
    {
     "data": {
      "text/plain": [
       "3527539"
      ]
     },
     "execution_count": 41,
     "metadata": {},
     "output_type": "execute_result"
    }
   ],
   "source": [
    "hash(empty_tuple)"
   ]
  },
  {
   "cell_type": "code",
   "execution_count": 42,
   "metadata": {
    "collapsed": false
   },
   "outputs": [
    {
     "name": "stdout",
     "output_type": "stream",
     "text": [
      "1\n",
      "a\n",
      "True\n"
     ]
    }
   ],
   "source": [
    "example_tuple = (1, \"a\", True)\n",
    "for element in example_tuple:\n",
    "    print(element)"
   ]
  },
  {
   "cell_type": "code",
   "execution_count": 43,
   "metadata": {
    "collapsed": false
   },
   "outputs": [
    {
     "data": {
      "text/plain": [
       "3"
      ]
     },
     "execution_count": 43,
     "metadata": {},
     "output_type": "execute_result"
    }
   ],
   "source": [
    "len(example_tuple)"
   ]
  },
  {
   "cell_type": "code",
   "execution_count": 44,
   "metadata": {
    "collapsed": false
   },
   "outputs": [
    {
     "name": "stdout",
     "output_type": "stream",
     "text": [
      "1\n",
      "(2, 3)\n"
     ]
    }
   ],
   "source": [
    "example_tuple = (1, 2, 3)\n",
    "print(example_tuple[0])\n",
    "print(example_tuple[1:])"
   ]
  },
  {
   "cell_type": "code",
   "execution_count": 45,
   "metadata": {
    "collapsed": false
   },
   "outputs": [
    {
     "ename": "IndexError",
     "evalue": "list index out of range",
     "output_type": "error",
     "traceback": [
      "\u001b[0;31m---------------------------------------------------------------------------\u001b[0m",
      "\u001b[0;31mIndexError\u001b[0m                                Traceback (most recent call last)",
      "\u001b[0;32m<ipython-input-45-6c57ccd67aa8>\u001b[0m in \u001b[0;36m<module>\u001b[0;34m()\u001b[0m\n\u001b[0;32m----> 1\u001b[0;31m \u001b[0mexample_list\u001b[0m\u001b[0;34m[\u001b[0m\u001b[0;36m200\u001b[0m\u001b[0;34m]\u001b[0m\u001b[0;34m\u001b[0m\u001b[0m\n\u001b[0m",
      "\u001b[0;31mIndexError\u001b[0m: list index out of range"
     ]
    }
   ],
   "source": [
    "example_list[200]"
   ]
  },
  {
   "cell_type": "code",
   "execution_count": 46,
   "metadata": {
    "collapsed": true
   },
   "outputs": [],
   "source": [
    "a = (123)\n",
    "a\n",
    "type(a)\n",
    "a = (123, ) # в кортеже с одним элементом запятая обязательна!"
   ]
  },
  {
   "cell_type": "markdown",
   "metadata": {},
   "source": [
    "Важно понимать, что **неизменяемым является сам tuple, но не объекты, которые он содержит!**. Например:"
   ]
  },
  {
   "cell_type": "code",
   "execution_count": 47,
   "metadata": {
    "collapsed": true
   },
   "outputs": [],
   "source": [
    "# TODO"
   ]
  },
  {
   "cell_type": "markdown",
   "metadata": {},
   "source": [
    "## Словарь: dict"
   ]
  },
  {
   "cell_type": "code",
   "execution_count": 48,
   "metadata": {
    "collapsed": false
   },
   "outputs": [
    {
     "data": {
      "text/plain": [
       "288"
      ]
     },
     "execution_count": 48,
     "metadata": {},
     "output_type": "execute_result"
    }
   ],
   "source": [
    "# создаем словарь используя фигурные скобки или ф-ю dict\n",
    "empty_dict = dict()\n",
    "empty_dict = {}\n",
    "sys.getsizeof(empty_dict)"
   ]
  },
  {
   "cell_type": "code",
   "execution_count": 49,
   "metadata": {
    "collapsed": false
   },
   "outputs": [
    {
     "name": "stdout",
     "output_type": "stream",
     "text": [
      "{'a': 1, 'b': True, 'c': 4, (1, 2, 3): True}\n",
      "4\n"
     ]
    },
    {
     "ename": "KeyError",
     "evalue": "'x'",
     "output_type": "error",
     "traceback": [
      "\u001b[0;31m---------------------------------------------------------------------------\u001b[0m",
      "\u001b[0;31mKeyError\u001b[0m                                  Traceback (most recent call last)",
      "\u001b[0;32m<ipython-input-49-30f9253d03f5>\u001b[0m in \u001b[0;36m<module>\u001b[0;34m()\u001b[0m\n\u001b[1;32m      3\u001b[0m \u001b[0mprint\u001b[0m\u001b[0;34m(\u001b[0m\u001b[0mexample_dict\u001b[0m\u001b[0;34m)\u001b[0m\u001b[0;34m\u001b[0m\u001b[0m\n\u001b[1;32m      4\u001b[0m \u001b[0mprint\u001b[0m\u001b[0;34m(\u001b[0m\u001b[0mexample_dict\u001b[0m\u001b[0;34m[\u001b[0m\u001b[0;34m\"c\"\u001b[0m\u001b[0;34m]\u001b[0m\u001b[0;34m)\u001b[0m\u001b[0;34m\u001b[0m\u001b[0m\n\u001b[0;32m----> 5\u001b[0;31m \u001b[0mprint\u001b[0m\u001b[0;34m(\u001b[0m\u001b[0mexample_dict\u001b[0m\u001b[0;34m[\u001b[0m\u001b[0;34m\"x\"\u001b[0m\u001b[0;34m]\u001b[0m\u001b[0;34m)\u001b[0m\u001b[0;34m\u001b[0m\u001b[0m\n\u001b[0m",
      "\u001b[0;31mKeyError\u001b[0m: 'x'"
     ]
    }
   ],
   "source": [
    "example_dict = {\"a\": 1, \"b\": True, example_tuple: True}\n",
    "example_dict[\"c\"] = 4\n",
    "print(example_dict)\n",
    "print(example_dict[\"c\"])\n",
    "print(example_dict[\"x\"])"
   ]
  },
  {
   "cell_type": "code",
   "execution_count": 50,
   "metadata": {
    "collapsed": false,
    "scrolled": false
   },
   "outputs": [
    {
     "ename": "TypeError",
     "evalue": "unhashable type: 'list'",
     "output_type": "error",
     "traceback": [
      "\u001b[0;31m---------------------------------------------------------------------------\u001b[0m",
      "\u001b[0;31mTypeError\u001b[0m                                 Traceback (most recent call last)",
      "\u001b[0;32m<ipython-input-50-20b3c87f549a>\u001b[0m in \u001b[0;36m<module>\u001b[0;34m()\u001b[0m\n\u001b[1;32m      1\u001b[0m \u001b[0;31m# ключом словаря может быть только hashable объект\u001b[0m\u001b[0;34m\u001b[0m\u001b[0;34m\u001b[0m\u001b[0m\n\u001b[0;32m----> 2\u001b[0;31m \u001b[0mexample_dict\u001b[0m\u001b[0;34m[\u001b[0m\u001b[0mexample_list\u001b[0m\u001b[0;34m]\u001b[0m \u001b[0;34m=\u001b[0m \u001b[0;32mTrue\u001b[0m\u001b[0;34m\u001b[0m\u001b[0m\n\u001b[0m",
      "\u001b[0;31mTypeError\u001b[0m: unhashable type: 'list'"
     ]
    }
   ],
   "source": [
    "# ключом словаря может быть только hashable объект\n",
    "example_dict[example_list] = True"
   ]
  },
  {
   "cell_type": "markdown",
   "metadata": {},
   "source": [
    "An object is hashable if it has a hash value which never changes during its lifetime (it needs a __hash__() method), and can be compared to other objects (it needs an __eq__() or __cmp__() method). Hashable objects which compare equal must have the same hash value.\n",
    "\n",
    "Hashability makes an object usable as a dictionary key and a set member, because these data structures use the hash value internally.\n",
    "\n",
    "All of Python’s immutable built-in objects are hashable, while no mutable containers (such as lists or dictionaries) are. Objects which are instances of user-defined classes are hashable by default; they all compare unequal, and their hash value is their id()."
   ]
  },
  {
   "cell_type": "code",
   "execution_count": 51,
   "metadata": {
    "collapsed": false
   },
   "outputs": [
    {
     "name": "stdout",
     "output_type": "stream",
     "text": [
      "None\n",
      "default value\n"
     ]
    }
   ],
   "source": [
    "# если мы не уверены, что ключ есть в словаре - можно воспользоваться методом get\n",
    "print(example_dict.get(\"x\"))\n",
    "print(example_dict.get(\"x\", \"default value\"))"
   ]
  },
  {
   "cell_type": "code",
   "execution_count": 52,
   "metadata": {
    "collapsed": false
   },
   "outputs": [
    {
     "name": "stdout",
     "output_type": "stream",
     "text": [
      "a: 1\n",
      "b: True\n",
      "c: 4\n",
      "(1, 2, 3): True\n"
     ]
    }
   ],
   "source": [
    "# итерируемся по ключам и значениям - внимание, порядок недетерминирован!\n",
    "for key, value in example_dict.items():\n",
    "    print(\"{}: {}\".format(key, value))"
   ]
  },
  {
   "cell_type": "code",
   "execution_count": 53,
   "metadata": {
    "collapsed": true
   },
   "outputs": [],
   "source": [
    "# посмотрим на разницу поиска значения в словаре и списке\n",
    "search_list = list(range(100000)) \n",
    "search_dict = dict.fromkeys(list(range(100000)))"
   ]
  },
  {
   "cell_type": "code",
   "execution_count": 54,
   "metadata": {
    "collapsed": false
   },
   "outputs": [
    {
     "name": "stdout",
     "output_type": "stream",
     "text": [
      "10000 loops, best of 3: 73.8 ns per loop\n"
     ]
    }
   ],
   "source": [
    "%timeit -n10000 0 in search_list"
   ]
  },
  {
   "cell_type": "code",
   "execution_count": 55,
   "metadata": {
    "collapsed": false
   },
   "outputs": [
    {
     "name": "stdout",
     "output_type": "stream",
     "text": [
      "10000 loops, best of 3: 84.5 ns per loop\n"
     ]
    }
   ],
   "source": [
    "%timeit -n10000 0 in search_dict"
   ]
  },
  {
   "cell_type": "code",
   "execution_count": 56,
   "metadata": {
    "collapsed": false
   },
   "outputs": [
    {
     "name": "stdout",
     "output_type": "stream",
     "text": [
      "1000 loops, best of 3: 2.81 ms per loop\n"
     ]
    }
   ],
   "source": [
    "%timeit -n1000 99999 in search_list"
   ]
  },
  {
   "cell_type": "code",
   "execution_count": 57,
   "metadata": {
    "collapsed": false
   },
   "outputs": [
    {
     "name": "stdout",
     "output_type": "stream",
     "text": [
      "10000 loops, best of 3: 126 ns per loop\n"
     ]
    }
   ],
   "source": [
    "%timeit -n10000 99999 in search_dict"
   ]
  },
  {
   "cell_type": "code",
   "execution_count": 58,
   "metadata": {
    "collapsed": false
   },
   "outputs": [
    {
     "name": "stdout",
     "output_type": "stream",
     "text": [
      "{'a': 1, 'b': 2, 'c': 3}\n"
     ]
    }
   ],
   "source": [
    "# объединение словарей\n",
    "d1 = {\"a\": 1, \"c\": 3}\n",
    "d2 = {\"b\": 2}\n",
    "d1.update(d2)\n",
    "print(d1)"
   ]
  },
  {
   "cell_type": "code",
   "execution_count": 59,
   "metadata": {
    "collapsed": false
   },
   "outputs": [
    {
     "name": "stdout",
     "output_type": "stream",
     "text": [
      "{'a': 1, 'c': 3}\n",
      "{'a': 100, 'c': 3}\n",
      "\n",
      "{'a': [1, 2, 3, 4]}\n",
      "{'a': [1, 2, 3, 4]}\n",
      "\n",
      "{'a': [1, 2, 3, 4]}\n",
      "{'a': [1, 2, 3]}\n"
     ]
    }
   ],
   "source": [
    "# копирование\n",
    "d1 = {\"a\": 1, \"c\": 3}\n",
    "d2 = d1.copy()\n",
    "d2[\"a\"] = 100\n",
    "print(d1)\n",
    "print(d2)\n",
    "print()\n",
    "\n",
    "# вложенные не копируются\n",
    "nested = [1, 2, 3]\n",
    "d1 = {\"a\": nested}\n",
    "d2 = d1.copy()\n",
    "nested.append(4)\n",
    "print(d1)\n",
    "print(d2)\n",
    "print()\n",
    "\n",
    "# поэтому опять используем deepcopy\n",
    "from copy import deepcopy\n",
    "nested = [1, 2, 3]\n",
    "d1 = {\"a\": nested}\n",
    "d2 = deepcopy(d1)\n",
    "nested.append(4)\n",
    "print(d1)\n",
    "print(d2)"
   ]
  },
  {
   "cell_type": "markdown",
   "metadata": {},
   "source": [
    "**Задача - есть список элементов. Известно, что у большинства элементов в списке есть пары, то есть их по 2. Но есть некоторое количество элементов, у которых пары нет - их по 1 в списке. Цель - найти эти одиночные элементы.**\n",
    "\n",
    "Вот решение с помощью словаря:"
   ]
  },
  {
   "cell_type": "code",
   "execution_count": 60,
   "metadata": {
    "collapsed": false
   },
   "outputs": [
    {
     "data": {
      "text/plain": [
       "dict_keys([3, 5])"
      ]
     },
     "execution_count": 60,
     "metadata": {},
     "output_type": "execute_result"
    }
   ],
   "source": [
    "elements = [2, 1, 5, 2, 4, 3, 1, 4]\n",
    "\n",
    "solution_dict = {}\n",
    "\n",
    "for i in elements:\n",
    "    if i not in solution_dict:\n",
    "        solution_dict[i] = True\n",
    "    elif i in solution_dict:\n",
    "        del solution_dict[i]\n",
    "\n",
    "solution_dict.keys()"
   ]
  },
  {
   "cell_type": "markdown",
   "metadata": {},
   "source": [
    "## Множество: set"
   ]
  },
  {
   "cell_type": "code",
   "execution_count": 81,
   "metadata": {
    "collapsed": false
   },
   "outputs": [
    {
     "data": {
      "text/plain": [
       "224"
      ]
     },
     "execution_count": 81,
     "metadata": {},
     "output_type": "execute_result"
    }
   ],
   "source": [
    "# создадим пустой set c помощью ф-ии set()\n",
    "empty_set = set()\n",
    "sys.getsizeof(empty_set)"
   ]
  },
  {
   "cell_type": "code",
   "execution_count": 79,
   "metadata": {
    "collapsed": false
   },
   "outputs": [
    {
     "name": "stdout",
     "output_type": "stream",
     "text": [
      "{1, 2, 3, 4}\n",
      "{1, 2, 3, 4}\n"
     ]
    }
   ],
   "source": [
    "# непустое множество можно также задать фигурными скобками\n",
    "example_set = {1, 2, 3}\n",
    "\n",
    "# добавляем элемент в set\n",
    "example_set.add(4)\n",
    "print(example_set)\n",
    "\n",
    "# добавляем уже присутствующий элемент в set - ничего не меняется\n",
    "example_set.add(1)\n",
    "print(example_set)"
   ]
  },
  {
   "cell_type": "code",
   "execution_count": 80,
   "metadata": {
    "collapsed": false
   },
   "outputs": [
    {
     "ename": "TypeError",
     "evalue": "unhashable type: 'list'",
     "output_type": "error",
     "traceback": [
      "\u001b[0;31m---------------------------------------------------------------------------\u001b[0m",
      "\u001b[0;31mTypeError\u001b[0m                                 Traceback (most recent call last)",
      "\u001b[0;32m<ipython-input-80-7d3dcf20c566>\u001b[0m in \u001b[0;36m<module>\u001b[0;34m()\u001b[0m\n\u001b[0;32m----> 1\u001b[0;31m \u001b[0mexample_set\u001b[0m\u001b[0;34m.\u001b[0m\u001b[0madd\u001b[0m\u001b[0;34m(\u001b[0m\u001b[0mexample_list\u001b[0m\u001b[0;34m)\u001b[0m\u001b[0;34m\u001b[0m\u001b[0m\n\u001b[0m",
      "\u001b[0;31mTypeError\u001b[0m: unhashable type: 'list'"
     ]
    }
   ],
   "source": [
    "example_set.add(example_list)"
   ]
  },
  {
   "cell_type": "code",
   "execution_count": null,
   "metadata": {
    "collapsed": true
   },
   "outputs": [],
   "source": [
    "another_set = {4, 5, 6}"
   ]
  },
  {
   "cell_type": "code",
   "execution_count": null,
   "metadata": {
    "collapsed": false
   },
   "outputs": [],
   "source": [
    "print(example_set.difference(another_set)) # различие\n",
    "print(example_set.union(another_set)) # объединение\n",
    "print(example_set.intersection(another_set)) # пересечение"
   ]
  },
  {
   "cell_type": "code",
   "execution_count": null,
   "metadata": {
    "collapsed": false
   },
   "outputs": [],
   "source": [
    "# например, вызов какой-либо ф-ии чат сервиса вернул нам список активных в данный момент пользователей в комнате\n",
    "active_users = [\"Александр\", \"Михаил\", \"Ольга\"]\n",
    "# вызов другой ф-ии вернул список администраторов чата\n",
    "admins = [\"Ольга\", \"Мария\"]\n",
    "# нам нужно найти список активных администраторов и послать им какое-либо уведомление\n",
    "active_admins = set(active_users).intersection(set(admins))\n",
    "active_admins"
   ]
  },
  {
   "cell_type": "code",
   "execution_count": 64,
   "metadata": {
    "collapsed": false
   },
   "outputs": [
    {
     "ename": "TypeError",
     "evalue": "unhashable type: 'list'",
     "output_type": "error",
     "traceback": [
      "\u001b[0;31m---------------------------------------------------------------------------\u001b[0m",
      "\u001b[0;31mTypeError\u001b[0m                                 Traceback (most recent call last)",
      "\u001b[0;32m<ipython-input-64-9c6de2642c88>\u001b[0m in \u001b[0;36m<module>\u001b[0;34m()\u001b[0m\n\u001b[1;32m      1\u001b[0m \u001b[0;31m# сеты могут содержать только неизменяемые объекты.\u001b[0m\u001b[0;34m\u001b[0m\u001b[0;34m\u001b[0m\u001b[0m\n\u001b[1;32m      2\u001b[0m \u001b[0mexample_set\u001b[0m \u001b[0;34m=\u001b[0m \u001b[0mset\u001b[0m\u001b[0;34m(\u001b[0m\u001b[0;34m)\u001b[0m\u001b[0;34m\u001b[0m\u001b[0m\n\u001b[0;32m----> 3\u001b[0;31m \u001b[0mexample_set\u001b[0m\u001b[0;34m.\u001b[0m\u001b[0madd\u001b[0m\u001b[0;34m(\u001b[0m\u001b[0;34m[\u001b[0m\u001b[0;36m1\u001b[0m\u001b[0;34m,\u001b[0m \u001b[0;36m2\u001b[0m\u001b[0;34m,\u001b[0m \u001b[0;36m3\u001b[0m\u001b[0;34m]\u001b[0m\u001b[0;34m)\u001b[0m\u001b[0;34m\u001b[0m\u001b[0m\n\u001b[0m",
      "\u001b[0;31mTypeError\u001b[0m: unhashable type: 'list'"
     ]
    }
   ],
   "source": [
    "# сеты могут содержать только неизменяемые объекты.\n",
    "example_set = set()\n",
    "example_set.add([1, 2, 3])"
   ]
  },
  {
   "cell_type": "markdown",
   "metadata": {},
   "source": [
    "**Задача, очень часто возникающая на практике. Есть список элементов, нужно оставить только уникальные. Это одна строка с использованием сета:**"
   ]
  },
  {
   "cell_type": "code",
   "execution_count": 65,
   "metadata": {
    "collapsed": false
   },
   "outputs": [
    {
     "data": {
      "text/plain": [
       "{'blue', 'green', 'magenta', 'orange', 'red', 'yellow'}"
      ]
     },
     "execution_count": 65,
     "metadata": {},
     "output_type": "execute_result"
    }
   ],
   "source": [
    "elements = [\"yellow\", \"yellow\", \"green\", \"red\", \"blue\", \"blue\", \"magenta\", \"orange\", \"red\"]\n",
    "set(elements)"
   ]
  },
  {
   "cell_type": "markdown",
   "metadata": {},
   "source": [
    "## frozenset"
   ]
  },
  {
   "cell_type": "markdown",
   "metadata": {},
   "source": [
    "Так как set может содержать только hashable объекты, а иногда нужен сет сетов - существует frozenset"
   ]
  },
  {
   "cell_type": "code",
   "execution_count": 66,
   "metadata": {
    "collapsed": false
   },
   "outputs": [
    {
     "name": "stdout",
     "output_type": "stream",
     "text": [
      "{frozenset({1, 2, 3})}\n"
     ]
    }
   ],
   "source": [
    "example_set = set()\n",
    "example_set.add(frozenset([1,2,3]))\n",
    "print(example_set)"
   ]
  },
  {
   "cell_type": "markdown",
   "metadata": {},
   "source": [
    "## collections"
   ]
  },
  {
   "cell_type": "code",
   "execution_count": 67,
   "metadata": {
    "collapsed": false
   },
   "outputs": [
    {
     "name": "stdout",
     "output_type": "stream",
     "text": [
      "['deque', 'Set', 'UserString', 'Iterable', 'Generator', 'Sized', 'Container', 'Coroutine', 'namedtuple', 'Sequence', 'Counter', 'Hashable', 'ByteString', 'MutableSet', 'abc', 'ValuesView', 'MappingView', 'AsyncIterator', 'defaultdict', 'Awaitable', 'Iterator', 'ChainMap', 'UserList', 'Mapping', 'MutableMapping', 'UserDict', 'ItemsView', 'Callable', 'OrderedDict', 'AsyncIterable', 'MutableSequence', 'KeysView']\n"
     ]
    }
   ],
   "source": [
    "import collections\n",
    "print([x for x in collections.__dict__.keys() if not x.startswith(\"_\")])"
   ]
  },
  {
   "cell_type": "code",
   "execution_count": 68,
   "metadata": {
    "collapsed": false
   },
   "outputs": [
    {
     "name": "stdout",
     "output_type": "stream",
     "text": [
      "1: 5 times\n",
      "2: 2 times\n",
      "3: 1 times\n"
     ]
    }
   ],
   "source": [
    "# counter\n",
    "counter = collections.Counter([1,2,3,4,1,2,1,1,1])\n",
    "for elem, count in counter.most_common(3):\n",
    "    print(\"{}: {} times\".format(elem, count))"
   ]
  },
  {
   "cell_type": "code",
   "execution_count": 69,
   "metadata": {
    "collapsed": false
   },
   "outputs": [
    {
     "data": {
      "text/plain": [
       "0"
      ]
     },
     "execution_count": 69,
     "metadata": {},
     "output_type": "execute_result"
    }
   ],
   "source": [
    "# defaultdict\n",
    "default_dict = collections.defaultdict(int)\n",
    "default_dict[\"not_exists\"]"
   ]
  },
  {
   "cell_type": "code",
   "execution_count": 70,
   "metadata": {
    "collapsed": false
   },
   "outputs": [
    {
     "data": {
      "text/plain": [
       "5.0"
      ]
     },
     "execution_count": 70,
     "metadata": {},
     "output_type": "execute_result"
    }
   ],
   "source": [
    "# namedtuple\n",
    "import math\n",
    "Point = collections.namedtuple('Point', ['x', 'y'])\n",
    "point1 = Point(0, 0)\n",
    "point2 = Point(3, 4)\n",
    "distance = math.sqrt((point2.x - point1.x)**2 + (point2.y - point1.y)**2)\n",
    "distance"
   ]
  },
  {
   "cell_type": "markdown",
   "metadata": {},
   "source": [
    "## queue"
   ]
  },
  {
   "cell_type": "code",
   "execution_count": 77,
   "metadata": {
    "collapsed": false
   },
   "outputs": [
    {
     "name": "stdout",
     "output_type": "stream",
     "text": [
      "Queue: Create a queue object with a given maximum size.\n",
      "\n",
      "    If maxsize is <= 0, the queue size is infinite.\n",
      "    \n",
      "\n",
      "PriorityQueue: Variant of Queue that retrieves open entries in priority order (lowest first).\n",
      "\n",
      "    Entries are typically tuples of the form:  (priority number, data).\n",
      "    \n",
      "\n",
      "LifoQueue: Variant of Queue that retrieves most recently added entries first.\n"
     ]
    }
   ],
   "source": [
    "import queue\n",
    "\n",
    "print(\"Queue:\", queue.Queue.__doc__)\n",
    "print()\n",
    "print(\"PriorityQueue:\", queue.PriorityQueue.__doc__)\n",
    "print()\n",
    "print(\"LifoQueue:\", queue.LifoQueue.__doc__)"
   ]
  },
  {
   "cell_type": "markdown",
   "metadata": {},
   "source": [
    "* Queue\n",
    "* PriorityQueue\n",
    "* LifoQueue\n",
    "\n",
    "Разберем позже, когда будем говорить о многопоточности, так как доступ к этим структурам синхронизирован."
   ]
  },
  {
   "cell_type": "markdown",
   "metadata": {},
   "source": [
    "## heapq"
   ]
  },
  {
   "cell_type": "code",
   "execution_count": 71,
   "metadata": {
    "collapsed": false
   },
   "outputs": [
    {
     "name": "stdout",
     "output_type": "stream",
     "text": [
      "[0, 1, 5, 2, 3, 9, 8, 4, 7, 6]\n",
      "True\n",
      "True\n",
      "True\n",
      "...\n",
      "\n",
      "0\n",
      "1\n",
      "2\n",
      "3\n",
      "4\n",
      "5\n",
      "6\n",
      "7\n",
      "8\n",
      "9\n"
     ]
    }
   ],
   "source": [
    "import heapq\n",
    "from random import shuffle\n",
    "\n",
    "heap = []\n",
    "data = list(range(10))\n",
    "shuffle(data)\n",
    "\n",
    "for i in data:\n",
    "    heapq.heappush(heap, i)\n",
    "\n",
    "# Порядок элементов будет совсем не случайным, как может показаться.\n",
    "# Элементы идут не строго по порядку, но удовлетворяют правилу:\n",
    "# heap[k] <= heap[2*k+1] and heap[k] <= heap[2*k+2] для всех элементов.\n",
    "print(heap)\n",
    "for k in range(3):\n",
    "    print(heap[k] <= heap[2*k+1] and heap[k] <= heap[2*k+2])\n",
    "print(\"...\")\n",
    "print()\n",
    "\n",
    "for i in range(10):\n",
    "    print(heapq.heappop(heap))"
   ]
  },
  {
   "cell_type": "markdown",
   "metadata": {},
   "source": [
    "### Другие структуры данных"
   ]
  },
  {
   "cell_type": "markdown",
   "metadata": {},
   "source": [
    "* Очереди\n",
    "* Стеки\n",
    "* Связанные списки\n",
    "* Деревья\n",
    "* Графы\n",
    "\n",
    "Если вам нужна реализация какой-то конкретно структуры данных - скорее всего вы найдете готовую open-source реализацию."
   ]
  },
  {
   "cell_type": "markdown",
   "metadata": {},
   "source": [
    "## Анализ сложности, визуализация некоторых операций"
   ]
  },
  {
   "cell_type": "code",
   "execution_count": 53,
   "metadata": {
    "collapsed": false
   },
   "outputs": [],
   "source": [
    "%matplotlib inline\n",
    "plotting = True\n",
    "try:\n",
    "    import matplotlib\n",
    "    import seaborn as sbn\n",
    "    import matplotlib.pyplot as plt\n",
    "except ImportError:\n",
    "    # Не удалось импортировать модуль, не будем рисовать.\n",
    "    plotting = False\n",
    "    print(\"can't import plotting tools\")\n",
    "else:\n",
    "    # задаем ширину и высоту графиков\n",
    "    matplotlib.rcParams['figure.figsize'] = (20.0, 10.0)"
   ]
  },
  {
   "cell_type": "code",
   "execution_count": 54,
   "metadata": {
    "collapsed": false
   },
   "outputs": [],
   "source": [
    "def draw_plot(labelY, dataX, dataY):\n",
    "    plt.plot(dataX, dataY, 'ro')\n",
    "    plt.ylabel(labelY)\n",
    "    plt.xlabel(\"elements\")\n",
    "    plt.show()"
   ]
  },
  {
   "cell_type": "code",
   "execution_count": 55,
   "metadata": {
    "collapsed": false
   },
   "outputs": [
    {
     "data": {
      "image/png": "[encoded data removed]",
      "text/plain": [
       "<matplotlib.figure.Figure at 0x10c2ca390>"
      ]
     },
     "metadata": {},
     "output_type": "display_data"
    }
   ],
   "source": [
    "import random\n",
    "\n",
    "if plotting:\n",
    "    elements = range(1000000)[::1000]\n",
    "    measurements = []\n",
    "    example_dict = {}\n",
    "\n",
    "    for elem in elements:\n",
    "        for i in range(len(example_dict), elem+1):\n",
    "            example_dict[i] = True\n",
    "        num = random.randint(0, elem)\n",
    "        result = %timeit -n1000 -q -o example_dict[num]\n",
    "        measurements.append(result.best)\n",
    "\n",
    "    draw_plot(\"dict key lookup O(1)\", elements, measurements)\n",
    "else:\n",
    "    print(\"plotting unavailable\")"
   ]
  },
  {
   "cell_type": "code",
   "execution_count": 56,
   "metadata": {
    "collapsed": false
   },
   "outputs": [
    {
     "data": {
      "image/png": "[encoded data removed]",
      "text/plain": [
       "<matplotlib.figure.Figure at 0x11226be10>"
      ]
     },
     "metadata": {},
     "output_type": "display_data"
    }
   ],
   "source": [
    "import random\n",
    "\n",
    "if plotting:\n",
    "    elements = range(10000)[::100]\n",
    "    measurements = []\n",
    "\n",
    "    for elem in elements:\n",
    "        example_list = []\n",
    "        for i in range(elem):\n",
    "            example_list.append(random.randint(0, elem))\n",
    "        num = random.randint(0, elem)\n",
    "        result = %timeit -n1000 -q -o example_list.count(num)\n",
    "        measurements.append(result.best)\n",
    "\n",
    "    draw_plot(\"list element count O(n)\", elements, measurements)\n",
    "\n",
    "else:\n",
    "    print(\"plotting unavailable\")    "
   ]
  },
  {
   "cell_type": "code",
   "execution_count": 57,
   "metadata": {
    "collapsed": false
   },
   "outputs": [
    {
     "data": {
      "image/png": "[encoded data removed]",
      "text/plain": [
       "<matplotlib.figure.Figure at 0x10a6083c8>"
      ]
     },
     "metadata": {},
     "output_type": "display_data"
    }
   ],
   "source": [
    "import random\n",
    "\n",
    "if plotting:\n",
    "    elements = range(10000)[::100]\n",
    "    measurements = []\n",
    "    example_list = []\n",
    "    for elem in elements:\n",
    "        for i in range(len(example_list), elem):\n",
    "            example_list.append(random.randint(0, elem))\n",
    "        result = %timeit -n50 -q -o sorted(example_list)\n",
    "        measurements.append(result.best)\n",
    "\n",
    "    draw_plot(\"list sorting O(n*log(n))\", elements, measurements)\n",
    "else:\n",
    "    print(\"plotting unavailable\")    "
   ]
  },
  {
   "cell_type": "markdown",
   "metadata": {
    "collapsed": true
   },
   "source": [
    "Ссылки:\n",
    "\n",
    "https://docs.python.org/3/tutorial/datastructures.html\n",
    "\n",
    "https://pymbook.readthedocs.io/en/latest/datastructure.html\n",
    "\n",
    "http://interactivepython.org/runestone/static/pythonds/index.html"
   ]
  },
  {
   "cell_type": "markdown",
   "metadata": {},
   "source": [
    "## Немного практики в завершение"
   ]
  },
  {
   "cell_type": "code",
   "execution_count": 3,
   "metadata": {
    "collapsed": true
   },
   "outputs": [],
   "source": [
    "from so import get_best_answer\n",
    "from IPython.core.display import display, HTML"
   ]
  },
  {
   "cell_type": "code",
   "execution_count": 6,
   "metadata": {
    "collapsed": false
   },
   "outputs": [
    {
     "data": {
      "text/html": [
       "<p>Python's GIL is intended to serialize access to interpreter internals from different threads. On multi-core systems, it means that multiple threads can't effectively make use of multiple cores. (If the GIL didn't lead to this problem, most people wouldn't care about the GIL - it's only being raised as an issue because of the increasing prevalence of multi-core systems.) If you want to understand it in detail, you can view <a href=\"https://www.youtube.com/watch?v=ph374fJqFPE\">this video</a> or look at <a href=\"http://www.dabeaz.com/python/GIL.pdf\">this set of slides</a>. It might be too much information, but then you did ask for details :-)</p>\n",
       "\n",
       "<p>Note that Python's GIL is only really an issue for CPython, the reference implementation. Jython and IronPython don't have a GIL. As a Python developer, you don't generally come across the GIL unless you're writing a C extension. C extension writers need to release the GIL when their extensions do blocking I/O, so that other threads in the Python process get a chance to run.</p>\n",
       "\n",
       "<p><strong>Update:</strong> Updated link to video to point to Youtube, as the earlier <code>blip.tv</code> link had rotted.</p>\n"
      ],
      "text/plain": [
       "<IPython.core.display.HTML object>"
      ]
     },
     "metadata": {},
     "output_type": "display_data"
    }
   ],
   "source": [
    "answer = get_best_answer(\"What is Python GIL\")\n",
    "if answer:\n",
    "    display(HTML(answer[\"body\"]))\n",
    "else:\n",
    "    print(\"Answer not found\")"
   ]
  }
 ],
 "metadata": {
  "kernelspec": {
   "display_name": "Python 3",
   "language": "python",
   "name": "python3"
  },
  "language_info": {
   "codemirror_mode": {
    "name": "ipython",
    "version": 3
   },
   "file_extension": ".py",
   "mimetype": "text/x-python",
   "name": "python",
   "nbconvert_exporter": "python",
   "pygments_lexer": "ipython3",
   "version": "3.5.2"
  }
 },
 "nbformat": 4,
 "nbformat_minor": 0
}
