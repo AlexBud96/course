{
 "cells": [
  {
   "cell_type": "code",
   "execution_count": 194,
   "metadata": {
    "collapsed": false,
    "scrolled": true
   },
   "outputs": [
    {
     "name": "stdout",
     "output_type": "stream",
     "text": [
      "3.5.2 (v3.5.2:4def2a2901a5, Jun 26 2016, 10:47:25) \n",
      "[GCC 4.2.1 (Apple Inc. build 5666) (dot 3)]\n"
     ]
    }
   ],
   "source": [
    "import sys\n",
    "print(sys.version)"
   ]
  },
  {
   "cell_type": "code",
   "execution_count": 2,
   "metadata": {
    "collapsed": false
   },
   "outputs": [
    {
     "data": {
      "text/plain": [
       "uname_result(system='Darwin', node='MacAir.local', release='15.5.0', version='Darwin Kernel Version 15.5.0: Tue Apr 19 18:36:36 PDT 2016; root:xnu-3248.50.21~8/RELEASE_X86_64', machine='x86_64', processor='i386')"
      ]
     },
     "execution_count": 2,
     "metadata": {},
     "output_type": "execute_result"
    }
   ],
   "source": [
    "# посмотрим информацию об операционной системе, на которой мы работаем.\n",
    "import platform\n",
    "platform.uname()"
   ]
  },
  {
   "cell_type": "markdown",
   "metadata": {},
   "source": [
    "## Работа с файлами"
   ]
  },
  {
   "cell_type": "code",
   "execution_count": 3,
   "metadata": {
    "collapsed": true
   },
   "outputs": [],
   "source": [
    "f = open(\"/tmp/example.txt\", \"w\")\n",
    "f.write(\"Технопарк\\n\")\n",
    "f.close()"
   ]
  },
  {
   "cell_type": "code",
   "execution_count": 4,
   "metadata": {
    "collapsed": false
   },
   "outputs": [
    {
     "name": "stdout",
     "output_type": "stream",
     "text": [
      "Технопарк\n",
      "\n"
     ]
    }
   ],
   "source": [
    "# открываем дескриптор файла для чтения\n",
    "f = open(\"/tmp/example.txt\", \"r\")\n",
    "\n",
    "# читаем содержимое полностью.\n",
    "data = f.read()\n",
    "\n",
    "# обязательно закрываем!\n",
    "f.close()\n",
    "\n",
    "print(data)"
   ]
  },
  {
   "cell_type": "code",
   "execution_count": 5,
   "metadata": {
    "collapsed": true
   },
   "outputs": [],
   "source": [
    "# используя context-manager\n",
    "with open(\"/tmp/example.txt\", \"a\") as f:\n",
    "    f.write(\"МГТУ\\n\")"
   ]
  },
  {
   "cell_type": "code",
   "execution_count": 6,
   "metadata": {
    "collapsed": false
   },
   "outputs": [
    {
     "name": "stdout",
     "output_type": "stream",
     "text": [
      "['Технопарк\\n', 'МГТУ\\n']\n"
     ]
    }
   ],
   "source": [
    "with open(\"/tmp/example.txt\", \"r\") as f:\n",
    "    print(f.readlines())"
   ]
  },
  {
   "cell_type": "code",
   "execution_count": 7,
   "metadata": {
    "collapsed": false,
    "scrolled": false
   },
   "outputs": [
    {
     "name": "stdout",
     "output_type": "stream",
     "text": [
      "'Технопарк\\n'\n",
      "'МГТУ\\n'\n"
     ]
    }
   ],
   "source": [
    "# читаем файл по строке, не загружая его полность в память\n",
    "with open(\"/tmp/example.txt\", \"r\") as f:\n",
    "    for line in f:\n",
    "        print(repr(line))"
   ]
  },
  {
   "cell_type": "code",
   "execution_count": 8,
   "metadata": {
    "collapsed": false,
    "scrolled": true
   },
   "outputs": [
    {
     "name": "stdout",
     "output_type": "stream",
     "text": [
      "1f1e3e86acb7cdacc6b77d1629cd1a505da3e166\n",
      "1f1e3e86acb7cdacc6b77d1629cd1a505da3e166\n",
      "99dbae54cec60cd234c7d364f51a276ccf07d8cf\n"
     ]
    }
   ],
   "source": [
    "import hashlib\n",
    "\n",
    "def hash_file(filename):\n",
    "    h = hashlib.sha1()\n",
    "\n",
    "    # открываем файл в бинарном виде.\n",
    "    with open(filename,'rb') as file:\n",
    "        chunk = 0\n",
    "        while chunk != b'':\n",
    "            # читаем кусочками по 1024 байта\n",
    "            chunk = file.read(1024)\n",
    "            h.update(chunk)\n",
    "\n",
    "    # hex-представление полученной суммы.\n",
    "    return h.hexdigest()\n",
    "\n",
    "print(hash_file(\"/tmp/example.txt\"))\n",
    "print(hash_file(\"/tmp/example.txt\"))\n",
    "\n",
    "with open(\"/tmp/example.txt\", \"a\") as f:\n",
    "    f.write(\"1\")\n",
    "\n",
    "print(hash_file(\"/tmp/example.txt\"))"
   ]
  },
  {
   "cell_type": "markdown",
   "metadata": {},
   "source": [
    "## Работа с директориями"
   ]
  },
  {
   "cell_type": "code",
   "execution_count": 54,
   "metadata": {
    "collapsed": true
   },
   "outputs": [],
   "source": [
    "import os\n",
    "\n",
    "os.mkdir(\"/tmp/park-python\")"
   ]
  },
  {
   "cell_type": "code",
   "execution_count": 55,
   "metadata": {
    "collapsed": false
   },
   "outputs": [],
   "source": [
    "try:\n",
    "    os.rmdir(\"/tmp/park-python\")\n",
    "except IOError as err:\n",
    "    print(err)"
   ]
  },
  {
   "cell_type": "code",
   "execution_count": 56,
   "metadata": {
    "collapsed": false
   },
   "outputs": [],
   "source": [
    "path = \"/tmp/park-python/lectures/04\"\n",
    "if not os.path.exists(path):\n",
    "    os.makedirs(path)"
   ]
  },
  {
   "cell_type": "code",
   "execution_count": 62,
   "metadata": {
    "collapsed": false
   },
   "outputs": [
    {
     "name": "stdout",
     "output_type": "stream",
     "text": [
      "[('.',\n",
      "  ['.ipynb_checkpoints', 'img'],\n",
      "  ['notebook.ipynb', 'README.md', 'server', 'server.go']),\n",
      " ('./.ipynb_checkpoints', [], ['notebook-checkpoint.ipynb']),\n",
      " ('./img',\n",
      "  [],\n",
      "  ['g1.png', 'g2.png', 'g3.png', 'g4.png', 'g5.png', 'threads.jpg'])]\n"
     ]
    }
   ],
   "source": [
    "import pprint\n",
    "pprint.pprint(list(os.walk(os.curdir)))"
   ]
  },
  {
   "cell_type": "code",
   "execution_count": 218,
   "metadata": {
    "collapsed": false
   },
   "outputs": [
    {
     "ename": "OSError",
     "evalue": "[Errno 66] Directory not empty: '/tmp/park-python'",
     "output_type": "error",
     "traceback": [
      "\u001b[0;31m---------------------------------------------------------------------------\u001b[0m",
      "\u001b[0;31mOSError\u001b[0m                                   Traceback (most recent call last)",
      "\u001b[0;32m<ipython-input-218-551c5c4b1cd6>\u001b[0m in \u001b[0;36m<module>\u001b[0;34m()\u001b[0m\n\u001b[0;32m----> 1\u001b[0;31m \u001b[0mos\u001b[0m\u001b[0;34m.\u001b[0m\u001b[0mrmdir\u001b[0m\u001b[0;34m(\u001b[0m\u001b[0;34m\"/tmp/park-python\"\u001b[0m\u001b[0;34m)\u001b[0m\u001b[0;34m\u001b[0m\u001b[0m\n\u001b[0m",
      "\u001b[0;31mOSError\u001b[0m: [Errno 66] Directory not empty: '/tmp/park-python'"
     ]
    }
   ],
   "source": [
    "os.rmdir(\"/tmp/park-python\")"
   ]
  },
  {
   "cell_type": "code",
   "execution_count": 219,
   "metadata": {
    "collapsed": false
   },
   "outputs": [],
   "source": [
    "import shutil\n",
    "shutil.rmtree(\"/tmp/park-python\")"
   ]
  },
  {
   "cell_type": "markdown",
   "metadata": {},
   "source": [
    "## stdin, stdout, stderr"
   ]
  },
  {
   "cell_type": "code",
   "execution_count": 26,
   "metadata": {
    "collapsed": false
   },
   "outputs": [
    {
     "name": "stdout",
     "output_type": "stream",
     "text": [
      "<_io.TextIOWrapper name='<stdin>' mode='r' encoding='UTF-8'>\n",
      "<ipykernel.iostream.OutStream object at 0x1044514a8>\n",
      "<ipykernel.iostream.OutStream object at 0x104451550>\n"
     ]
    }
   ],
   "source": [
    "import sys\n",
    "print(sys.stdin)\n",
    "print(sys.stdout)\n",
    "print(sys.stderr)"
   ]
  },
  {
   "cell_type": "code",
   "execution_count": 27,
   "metadata": {
    "collapsed": false
   },
   "outputs": [
    {
     "name": "stdout",
     "output_type": "stream",
     "text": [
      "0\n"
     ]
    }
   ],
   "source": [
    "print(sys.stdin.fileno())"
   ]
  },
  {
   "cell_type": "code",
   "execution_count": 28,
   "metadata": {
    "collapsed": false
   },
   "outputs": [
    {
     "ename": "UnsupportedOperation",
     "evalue": "IOStream has no fileno.",
     "output_type": "error",
     "traceback": [
      "\u001b[0;31m---------------------------------------------------------------------------\u001b[0m",
      "\u001b[0;31mUnsupportedOperation\u001b[0m                      Traceback (most recent call last)",
      "\u001b[0;32m<ipython-input-28-ef51c9c03543>\u001b[0m in \u001b[0;36m<module>\u001b[0;34m()\u001b[0m\n\u001b[0;32m----> 1\u001b[0;31m \u001b[0mprint\u001b[0m\u001b[0;34m(\u001b[0m\u001b[0msys\u001b[0m\u001b[0;34m.\u001b[0m\u001b[0mstdout\u001b[0m\u001b[0;34m.\u001b[0m\u001b[0mfileno\u001b[0m\u001b[0;34m(\u001b[0m\u001b[0;34m)\u001b[0m\u001b[0;34m)\u001b[0m\u001b[0;34m\u001b[0m\u001b[0m\n\u001b[0m",
      "\u001b[0;32m/Users/fz/park/course/env/lib/python3.5/site-packages/ipykernel/iostream.py\u001b[0m in \u001b[0;36mfileno\u001b[0;34m(self)\u001b[0m\n\u001b[1;32m    305\u001b[0m \u001b[0;34m\u001b[0m\u001b[0m\n\u001b[1;32m    306\u001b[0m     \u001b[0;32mdef\u001b[0m \u001b[0mfileno\u001b[0m\u001b[0;34m(\u001b[0m\u001b[0mself\u001b[0m\u001b[0;34m)\u001b[0m\u001b[0;34m:\u001b[0m\u001b[0;34m\u001b[0m\u001b[0m\n\u001b[0;32m--> 307\u001b[0;31m         \u001b[0;32mraise\u001b[0m \u001b[0mUnsupportedOperation\u001b[0m\u001b[0;34m(\u001b[0m\u001b[0;34m\"IOStream has no fileno.\"\u001b[0m\u001b[0;34m)\u001b[0m\u001b[0;34m\u001b[0m\u001b[0m\n\u001b[0m\u001b[1;32m    308\u001b[0m \u001b[0;34m\u001b[0m\u001b[0m\n\u001b[1;32m    309\u001b[0m     \u001b[0;32mdef\u001b[0m \u001b[0mwrite\u001b[0m\u001b[0;34m(\u001b[0m\u001b[0mself\u001b[0m\u001b[0;34m,\u001b[0m \u001b[0mstring\u001b[0m\u001b[0;34m)\u001b[0m\u001b[0;34m:\u001b[0m\u001b[0;34m\u001b[0m\u001b[0m\n",
      "\u001b[0;31mUnsupportedOperation\u001b[0m: IOStream has no fileno."
     ]
    }
   ],
   "source": [
    "print(sys.stdout.fileno())"
   ]
  },
  {
   "cell_type": "markdown",
   "metadata": {},
   "source": [
    "Так как дескрипторы stdout и stderr переопределены в Jupyter notebook. Давайте посмотрим куда они ведут:"
   ]
  },
  {
   "cell_type": "code",
   "execution_count": 29,
   "metadata": {
    "collapsed": false
   },
   "outputs": [
    {
     "name": "stdout",
     "output_type": "stream",
     "text": [
      "where am I"
     ]
    }
   ],
   "source": [
    "sys.stdout.write(\"where am I\")"
   ]
  },
  {
   "cell_type": "markdown",
   "metadata": {},
   "source": [
    "А ведут они как раз в этот ноутбук:)"
   ]
  },
  {
   "cell_type": "markdown",
   "metadata": {},
   "source": [
    "# Отладка"
   ]
  },
  {
   "cell_type": "code",
   "execution_count": 5,
   "metadata": {
    "collapsed": false
   },
   "outputs": [
    {
     "name": "stdout",
     "output_type": "stream",
     "text": [
      "> <ipython-input-5-22c1ca74b9d8>(4)find_sum()\n",
      "-> return a + b\n",
      "(Pdb) ll\n",
      "  1  \tdef find_sum(a, b):\n",
      "  2  \t    import pdb\n",
      "  3  \t    pdb.set_trace()\n",
      "  4  ->\t    return a + b\n",
      "(Pdb) locals()\n",
      "{'a': 1, 'b': 4, 'pdb': <module 'pdb' from '/Library/Frameworks/Python.framework/Versions/3.5/lib/python3.5/pdb.py'>}\n",
      "(Pdb) c\n"
     ]
    },
    {
     "data": {
      "text/plain": [
       "5"
      ]
     },
     "execution_count": 5,
     "metadata": {},
     "output_type": "execute_result"
    }
   ],
   "source": [
    "def find_sum(a, b):\n",
    "    import pdb\n",
    "    pdb.set_trace()    \n",
    "    return a + b\n",
    "\n",
    "find_sum(1, 4)"
   ]
  },
  {
   "cell_type": "markdown",
   "metadata": {
    "collapsed": true
   },
   "source": [
    "Гораздо удобнее использовать `ipdb`, иногда достаточно просто ф-ии `print()`\n",
    "\n",
    "Полезные библиотеки для отладки (debugging) - https://github.com/vinta/awesome-python#debugging-tools"
   ]
  },
  {
   "cell_type": "markdown",
   "metadata": {},
   "source": [
    "# Тестирование"
   ]
  },
  {
   "cell_type": "markdown",
   "metadata": {},
   "source": [
    "**Зачем?**"
   ]
  },
  {
   "cell_type": "code",
   "execution_count": 119,
   "metadata": {
    "collapsed": false
   },
   "outputs": [],
   "source": [
    "def get_max_length_word(sentence):\n",
    "    longest_word = None\n",
    "    words = sentence.split()\n",
    "    for word in words:\n",
    "        if not longest_word or len(word) > len(longest_word):\n",
    "            longest_word = word\n",
    "    return longest_word"
   ]
  },
  {
   "cell_type": "markdown",
   "metadata": {},
   "source": [
    "Что может пойти не так? Да все что угодно:\n",
    "\n",
    "* SyntaxError\n",
    "* Ошибка в логике\n",
    "* Обратная несовместимость новой версии используемой библиотеки\n",
    "* ...\n",
    "\n",
    "Через полгода после запуска приложения без тестов изменения в код большого приложения вносить очень страшно!\n",
    "\n",
    "Некоторые даже используют TDD - Test-Driven Development."
   ]
  },
  {
   "cell_type": "markdown",
   "metadata": {},
   "source": [
    "## unittest"
   ]
  },
  {
   "cell_type": "code",
   "execution_count": 123,
   "metadata": {
    "collapsed": false,
    "scrolled": true
   },
   "outputs": [
    {
     "name": "stderr",
     "output_type": "stream",
     "text": [
      "F\n",
      "======================================================================\n",
      "FAIL: test_sentences (__main__.LongestWordTestCase)\n",
      "----------------------------------------------------------------------\n",
      "Traceback (most recent call last):\n",
      "  File \"<ipython-input-123-3662bd66bec4>\", line 11, in test_sentences\n",
      "    self.assertEqual(get_max_length_word(sentence), correct_word)\n",
      "AssertionError: 'complicated.' != 'complicated'\n",
      "- complicated.\n",
      "?            -\n",
      "+ complicated\n",
      "\n",
      "\n",
      "----------------------------------------------------------------------\n",
      "Ran 1 test in 0.005s\n",
      "\n",
      "FAILED (failures=1)\n"
     ]
    },
    {
     "data": {
      "text/plain": [
       "<unittest.runner.TextTestResult run=1 errors=0 failures=1>"
      ]
     },
     "execution_count": 123,
     "metadata": {},
     "output_type": "execute_result"
    }
   ],
   "source": [
    "import unittest\n",
    "\n",
    "class LongestWordTestCase(unittest.TestCase):\n",
    "    \n",
    "    def test_sentences(self):\n",
    "        sentences = [\n",
    "            [\"Beautiful is better than ugly.\", \"Beautiful\"],\n",
    "            [\"Complex is better than complicated.\", \"complicated\"]\n",
    "        ]\n",
    "        for sentence, correct_word in sentences:\n",
    "            self.assertEqual(get_max_length_word(sentence), correct_word)\n",
    "\n",
    "# Обычно в реальных проектах использует механизм автоматического нахождения тестов (discover).\n",
    "suite = unittest.defaultTestLoader.loadTestsFromTestCase(LongestWordTestCase)\n",
    "unittest.TextTestRunner().run(suite)"
   ]
  },
  {
   "cell_type": "markdown",
   "metadata": {},
   "source": [
    "<table border=\"1\" class=\"docutils\" align=\"left\">\n",
    "<colgroup>\n",
    "<col width=\"48%\">\n",
    "<col width=\"34%\">\n",
    "<col width=\"18%\">\n",
    "</colgroup>\n",
    "<thead valign=\"bottom\">\n",
    "<tr class=\"row-odd\"><th class=\"head\">Method</th>\n",
    "<th class=\"head\">Checks that</th>\n",
    "</tr>\n",
    "</thead>\n",
    "<tbody valign=\"top\">\n",
    "<tr class=\"row-even\"><td>assertEqual(a, b)</td>\n",
    "<td><code class=\"docutils literal\"><span class=\"pre\">a</span> <span class=\"pre\">==</span> <span class=\"pre\">b</span></code></td>\n",
    "</tr>\n",
    "<tr class=\"row-odd\"><td>assertNotEqual(a, b)</td>\n",
    "<td><code class=\"docutils literal\"><span class=\"pre\">a</span> <span class=\"pre\">!=</span> <span class=\"pre\">b</span></code></td>\n",
    "</tr>\n",
    "<tr class=\"row-even\"><td>assertTrue(x)</td>\n",
    "<td><code class=\"docutils literal\"><span class=\"pre\">bool(x)</span> <span class=\"pre\">is</span> <span class=\"pre\">True</span></code></td>\n",
    "</tr>\n",
    "<tr class=\"row-odd\"><td>assertFalse(x)</td>\n",
    "<td><code class=\"docutils literal\"><span class=\"pre\">bool(x)</span> <span class=\"pre\">is</span> <span class=\"pre\">False</span></code></td>\n",
    "</tr>\n",
    "<tr class=\"row-even\"><td>assertIsNone(x)</td>\n",
    "<td><code class=\"docutils literal\"><span class=\"pre\">x</span> <span class=\"pre\">is</span> <span class=\"pre\">None</span></code></td>\n",
    "</tr>\n",
    "<tr class=\"row-odd\"><td>assertIsNotNone(x)</td>\n",
    "<td><code class=\"docutils literal\"><span class=\"pre\">x</span> <span class=\"pre\">is</span> <span class=\"pre\">not</span> <span class=\"pre\">None</span></code></td>\n",
    "</tr>\n",
    "<tr class=\"row-even\"><td>assertIsInstance(a, b)</td>\n",
    "<td><code class=\"docutils literal\"><span class=\"pre\">isinstance(a,</span> <span class=\"pre\">b)</span></code></td>\n",
    "</tr>\n",
    "<tr class=\"row-even\"><td colspan=\"2\">И другие... https://docs.python.org/3.5/library/unittest.html</td>\n",
    "</tr>\n",
    "</tbody>\n",
    "</table>"
   ]
  },
  {
   "cell_type": "markdown",
   "metadata": {},
   "source": [
    "Протестируем class. Все аналогично:"
   ]
  },
  {
   "cell_type": "code",
   "execution_count": 148,
   "metadata": {
    "collapsed": false
   },
   "outputs": [
    {
     "name": "stdout",
     "output_type": "stream",
     "text": [
      "We are alive! But all items lost!\n"
     ]
    }
   ],
   "source": [
    "class BoomException(Exception):\n",
    "    pass\n",
    "\n",
    "\n",
    "class Item:\n",
    "\n",
    "    def __init__(self, name, reacts_with=None):\n",
    "        self.name = name\n",
    "        self.reacts_with = reacts_with or []\n",
    "\n",
    "    def __repr__(self):\n",
    "        return self.name\n",
    "\n",
    "\n",
    "class Alchemy:\n",
    "\n",
    "    def __init__(self):\n",
    "        self.items = []\n",
    "\n",
    "    def add(self, item):\n",
    "        for existing_item in self.items:\n",
    "            if item.name not in existing_item.reacts_with:\n",
    "                continue\n",
    "            self.items = []\n",
    "            raise BoomException(\"{0} + {1}\".format(existing_item.name, item.name))\n",
    "        self.items.append(item)\n",
    "\n",
    "    def remove(self, item):\n",
    "        self.items.remove(item)\n",
    "\n",
    "\n",
    "# 2Na + 2H2O = 2NaOH + H2 (Не повторять дома!!! Пишут, что щелочь чрезвычайно опасна!)\n",
    "alchemy = Alchemy()\n",
    "alchemy.add(Item(\"Ca\", reacts_with=[]))\n",
    "alchemy.add(Item(\"H2O\", reacts_with=[\"Na\"]))\n",
    "\n",
    "try:\n",
    "    alchemy.add(Item(\"Na\", reacts_with=[\"H2O\"]))\n",
    "except BoomException:\n",
    "    print(\"We are alive! But all items lost!\")"
   ]
  },
  {
   "cell_type": "code",
   "execution_count": 149,
   "metadata": {
    "collapsed": false
   },
   "outputs": [
    {
     "name": "stderr",
     "output_type": "stream",
     "text": [
      "...\n",
      "----------------------------------------------------------------------\n",
      "Ran 3 tests in 0.005s\n",
      "\n",
      "OK\n"
     ]
    },
    {
     "data": {
      "text/plain": [
       "<unittest.runner.TextTestResult run=3 errors=0 failures=0>"
      ]
     },
     "execution_count": 149,
     "metadata": {},
     "output_type": "execute_result"
    }
   ],
   "source": [
    "import unittest\n",
    "\n",
    "class AlchemyTest(unittest.TestCase):\n",
    "\n",
    "    def setUp(self):\n",
    "        self.alchemy = Alchemy()\n",
    "    \n",
    "    def test_add(self):\n",
    "        self.alchemy.add(Item(\"C\"))\n",
    "        self.alchemy.add(Item(\"F\"))\n",
    "        self.assertEqual(len(self.alchemy.items), 2)\n",
    "\n",
    "    def test_remove(self):\n",
    "        item = Item(\"C\")\n",
    "        self.alchemy.add(item)\n",
    "        self.assertEqual(len(self.alchemy.items), 1)\n",
    "        self.alchemy.remove(item)\n",
    "        self.assertEqual(len(self.alchemy.items), 0)\n",
    "\n",
    "    def test_boom(self):\n",
    "        item1 = Item(\"Na\", reacts_with=[\"H2O\"])\n",
    "        item2 = Item(\"H2O\", reacts_with=[\"Na\"])\n",
    "        self.alchemy.add(item1)\n",
    "        self.assertRaises(BoomException, self.alchemy.add, item2)\n",
    "        self.assertEqual(len(self.alchemy.items), 0)\n",
    "\n",
    "\n",
    "# Обычно в реальных проектах использует механизм автоматического нахождения тестов (discover).\n",
    "suite = unittest.defaultTestLoader.loadTestsFromTestCase(AlchemyTest)\n",
    "unittest.TextTestRunner().run(suite)"
   ]
  },
  {
   "cell_type": "markdown",
   "metadata": {},
   "source": [
    "## unittest.mock"
   ]
  },
  {
   "cell_type": "markdown",
   "metadata": {},
   "source": [
    "Как тестировать код, выполняющий внешние вызовы: чтение файла, запрос содержимого URL?"
   ]
  },
  {
   "cell_type": "code",
   "execution_count": 17,
   "metadata": {
    "collapsed": false
   },
   "outputs": [
    {
     "data": {
      "text/plain": [
       "'Moscow'"
      ]
     },
     "execution_count": 17,
     "metadata": {},
     "output_type": "execute_result"
    }
   ],
   "source": [
    "import requests\n",
    "\n",
    "def get_location_city(ip):\n",
    "    data = requests.get(\"https://freegeoip.net/json/{ip}\".format(ip=ip)).json()\n",
    "    return data[\"city\"]\n",
    "\n",
    "def get_ip():\n",
    "    data = requests.get(\"https://httpbin.org/ip\").json()\n",
    "    return data[\"origin\"]\n",
    "\n",
    "get_location_city(get_ip())"
   ]
  },
  {
   "cell_type": "markdown",
   "metadata": {},
   "source": [
    "Для начала посмотрим что такое monkey patching."
   ]
  },
  {
   "cell_type": "code",
   "execution_count": 72,
   "metadata": {
    "collapsed": false
   },
   "outputs": [
    {
     "name": "stdout",
     "output_type": "stream",
     "text": [
      "42\n"
     ]
    }
   ],
   "source": [
    "import math\n",
    "\n",
    "def fake_sqrt(num):\n",
    "    return 42\n",
    "\n",
    "original_sqrt = math.sqrt\n",
    "math.sqrt = fake_sqrt\n",
    "\n",
    "# вызываем ф-ю, которую мы запатчили.\n",
    "print(math.sqrt(16))\n",
    "\n",
    "math.sqrt = original_sqrt"
   ]
  },
  {
   "cell_type": "code",
   "execution_count": 71,
   "metadata": {
    "collapsed": false,
    "scrolled": true
   },
   "outputs": [
    {
     "data": {
      "text/plain": [
       "4.0"
      ]
     },
     "execution_count": 71,
     "metadata": {},
     "output_type": "execute_result"
    }
   ],
   "source": [
    "math.sqrt(16)"
   ]
  },
  {
   "cell_type": "code",
   "execution_count": 20,
   "metadata": {
    "collapsed": false
   },
   "outputs": [
    {
     "name": "stderr",
     "output_type": "stream",
     "text": [
      ".\n",
      "----------------------------------------------------------------------\n",
      "Ran 1 test in 0.004s\n",
      "\n",
      "OK\n"
     ]
    },
    {
     "data": {
      "text/plain": [
       "<unittest.runner.TextTestResult run=1 errors=0 failures=0>"
      ]
     },
     "execution_count": 20,
     "metadata": {},
     "output_type": "execute_result"
    }
   ],
   "source": [
    "import unittest\n",
    "from unittest.mock import patch, Mock\n",
    "\n",
    "\n",
    "class FakeIPResponse:\n",
    "\n",
    "    def json(self):\n",
    "        return {\"origin\": \"127.0.0.1\"}\n",
    "\n",
    "\n",
    "class LongestWordTestCase(unittest.TestCase):\n",
    "\n",
    "    @patch('requests.get', Mock(return_value=FakeIPResponse()))\n",
    "    def test_get_ip(self):\n",
    "        self.assertEqual(get_ip(), \"127.0.0.1\")\n",
    "\n",
    "suite = unittest.defaultTestLoader.loadTestsFromTestCase(LongestWordTestCase)\n",
    "unittest.TextTestRunner().run(suite)\n"
   ]
  },
  {
   "cell_type": "markdown",
   "metadata": {},
   "source": [
    "Библиотека `coverage` позволяет оценить степень покрытия кода тестами.\n",
    "\n",
    "Помимо unit-тестирования существует масса других типов тестов:\n",
    "* Интеграционные\n",
    "* Функциональные\n",
    "* Тестирование производительности (бенчмарки)\n",
    "* ..."
   ]
  },
  {
   "cell_type": "markdown",
   "metadata": {},
   "source": [
    "Полезные библиотеки для тестирования - https://github.com/vinta/awesome-python#testing"
   ]
  },
  {
   "cell_type": "markdown",
   "metadata": {
    "collapsed": true
   },
   "source": [
    "# Многопоточность"
   ]
  },
  {
   "cell_type": "markdown",
   "metadata": {},
   "source": [
    "Что такое процесс?\n",
    "\n",
    "UNIX является многозадачной операционной системой. Это означает, что одновременно может быть запущена более чем одна программа. Каждая программа, работающая в некоторый момент времени, называется процессом.\n",
    "\n",
    "http://www.kharchuk.ru/%D0%A1%D1%82%D0%B0%D1%82%D1%8C%D0%B8/15-unix-foundations/80-unix-processes"
   ]
  },
  {
   "cell_type": "code",
   "execution_count": 60,
   "metadata": {
    "collapsed": false
   },
   "outputs": [
    {
     "name": "stdout",
     "output_type": "stream",
     "text": [
      "10000000\n",
      "1 loop, best of 3: 1.37 s per loop\n",
      "Напомните преподавателю показать top\n"
     ]
    }
   ],
   "source": [
    "STEPS = 10000000\n",
    "\n",
    "# Простая программа, складывающая числа.\n",
    "def worker(steps):\n",
    "    count = 0\n",
    "    for i in range(steps):\n",
    "        count += 1\n",
    "    return count\n",
    "\n",
    "print(worker(STEPS))\n",
    "\n",
    "%timeit -n1 worker(STEPS)\n",
    "\n",
    "print(\"Напомните преподавателю показать top\")"
   ]
  },
  {
   "cell_type": "markdown",
   "metadata": {},
   "source": [
    "<div style=\"float:left;margin:0 10px 10px 0\" markdown=\"1\">![title](img/g3.png)</div>"
   ]
  },
  {
   "cell_type": "markdown",
   "metadata": {},
   "source": [
    "Что такое поток?\n",
    "\n",
    "Многопоточность является естественным продолжением многозадачности. Каждый из процессов может выполнятся в несколько потоков. Программа выше исполнялась в одном процессе в главном потоке."
   ]
  },
  {
   "cell_type": "markdown",
   "metadata": {},
   "source": [
    "<div style=\"float:left;margin:0 10px 10px 0\" markdown=\"1\">![title](img/threads.jpg)</div>"
   ]
  },
  {
   "cell_type": "markdown",
   "metadata": {},
   "source": [
    "http://www.cs.miami.edu/home/visser/Courses/CSC322-09S/Content/UNIXProgramming/UNIXThreads.shtml\n",
    "\n",
    "Логичный шаг предположить, что 2 потока выполнят программу выше быстрее. Проверим?"
   ]
  },
  {
   "cell_type": "code",
   "execution_count": 63,
   "metadata": {
    "collapsed": false
   },
   "outputs": [
    {
     "name": "stdout",
     "output_type": "stream",
     "text": [
      "10000000\n",
      "1 loop, best of 3: 1.43 s per loop\n"
     ]
    }
   ],
   "source": [
    "import threading\n",
    "import queue\n",
    "\n",
    "result_queue = queue.Queue()\n",
    "\n",
    "STEPS = 10000000\n",
    "NUM_THREADS = 2\n",
    "\n",
    "def worker(steps):\n",
    "    count = 0\n",
    "    for i in range(steps):\n",
    "        count += 1\n",
    "    result_queue.put(count)\n",
    "\n",
    "\n",
    "def get_count_threaded():    \n",
    "    count = 0\n",
    "    threads = []\n",
    "\n",
    "    for i in range(NUM_THREADS):\n",
    "        t = threading.Thread(target=worker, args=(STEPS//NUM_THREADS,))\n",
    "        threads.append(t)\n",
    "        t.start()\n",
    "\n",
    "    for i in range(NUM_THREADS):\n",
    "        count += result_queue.get()\n",
    "\n",
    "    return count\n",
    "\n",
    "print(get_count_threaded())\n",
    "%timeit -n1 get_count_threaded()"
   ]
  },
  {
   "cell_type": "markdown",
   "metadata": {},
   "source": [
    "<div style=\"float:left;margin:0 10px 10px 0\" markdown=\"1\">![title](img/g4.png)</div>"
   ]
  },
  {
   "cell_type": "markdown",
   "metadata": {},
   "source": [
    "GIL\n",
    "\n",
    "https://jeffknupp.com/blog/2012/03/31/pythons-hardest-problem/\n",
    "\n",
    "Ок. Неужели выхода нет? Есть - multiprocessing"
   ]
  },
  {
   "cell_type": "markdown",
   "metadata": {},
   "source": [
    "## Мультипроцессинг"
   ]
  },
  {
   "cell_type": "code",
   "execution_count": 65,
   "metadata": {
    "collapsed": false
   },
   "outputs": [
    {
     "name": "stdout",
     "output_type": "stream",
     "text": [
      "10000000\n",
      "1 loop, best of 3: 736 ms per loop\n"
     ]
    }
   ],
   "source": [
    "import multiprocessing\n",
    "\n",
    "NUM_PROCESSES = 2\n",
    "STEPS = 10000000\n",
    "\n",
    "result_queue = multiprocessing.Queue()\n",
    "\n",
    "def worker(steps):\n",
    "    count = 0\n",
    "    for i in range(steps):\n",
    "        count += 1\n",
    "\n",
    "    result_queue.put(count)\n",
    "\n",
    "\n",
    "def get_count_in_processes():    \n",
    "    count = 0\n",
    "    processes = []\n",
    "    for i in range(NUM_PROCESSES):\n",
    "        p = multiprocessing.Process(target=worker, args=(STEPS//NUM_PROCESSES,))\n",
    "        processes.append(t)\n",
    "        p.start()\n",
    "\n",
    "    for i in range(NUM_THREADS):\n",
    "        count += result_queue.get()\n",
    "\n",
    "    return count\n",
    "\n",
    "print(get_count_in_processes())\n",
    "%timeit -n1 get_count_in_processes()"
   ]
  },
  {
   "cell_type": "markdown",
   "metadata": {
    "collapsed": true
   },
   "source": [
    "**Зачем тогда нужны потоки?**"
   ]
  },
  {
   "cell_type": "markdown",
   "metadata": {},
   "source": [
    "Все потому что не все задачи CPU-bound. Есть IO-bound задачи, которые прекрасно параллелятся на несколько CPU. Кто приведет пример?\n",
    "\n",
    "**TODO: примеры**"
   ]
  },
  {
   "cell_type": "markdown",
   "metadata": {},
   "source": [
    "Чтобы не быть голословными, поднимем HTTP-сервер на порту 8000. По адресу http://localhost:8000 будет отдаваться небольшой кусочек текста. Наша задача - скачивать контент по этому адресу."
   ]
  },
  {
   "cell_type": "code",
   "execution_count": 86,
   "metadata": {
    "collapsed": false
   },
   "outputs": [
    {
     "name": "stdout",
     "output_type": "stream",
     "text": [
      "1 loop, best of 3: 11.1 s per loop\n"
     ]
    }
   ],
   "source": [
    "import requests\n",
    "\n",
    "STEPS = 100\n",
    "\n",
    "def download():\n",
    "    requests.get(\"http://127.0.0.1:8000\").text\n",
    "\n",
    "# Простая программа, загружающая контент URL-странички. Типичная IO-bound задача.\n",
    "def worker(steps):\n",
    "    for i in range(steps):\n",
    "        download()\n",
    "\n",
    "%timeit -n1 worker(STEPS)"
   ]
  },
  {
   "cell_type": "markdown",
   "metadata": {},
   "source": [
    "<div style=\"float:left;margin:0 10px 10px 0\" markdown=\"1\">![title](img/g1.png)</div>"
   ]
  },
  {
   "cell_type": "code",
   "execution_count": 93,
   "metadata": {
    "collapsed": false
   },
   "outputs": [
    {
     "name": "stdout",
     "output_type": "stream",
     "text": [
      "1 loop, best of 3: 452 ms per loop\n"
     ]
    }
   ],
   "source": [
    "import threading\n",
    "\n",
    "NUM_THREADS = 64\n",
    "\n",
    "def worker(steps):\n",
    "    count = 0\n",
    "    for i in range(steps):\n",
    "        download()\n",
    "\n",
    "def run_worker_threaded():    \n",
    "    threads = []\n",
    "\n",
    "    for i in range(NUM_THREADS):\n",
    "        t = threading.Thread(target=worker, args=(STEPS//NUM_THREADS,))\n",
    "        threads.append(t)\n",
    "        t.start()\n",
    "\n",
    "    for t in threads:\n",
    "        t.join()\n",
    "\n",
    "%timeit -n1 run_worker_threaded()"
   ]
  },
  {
   "cell_type": "markdown",
   "metadata": {},
   "source": [
    "<div style=\"float:left;margin:0 10px 10px 0\" markdown=\"1\">![title](img/g2.png)</div>"
   ]
  },
  {
   "cell_type": "markdown",
   "metadata": {},
   "source": [
    "Ради интереса попробуем мультипроцессинг для этой задачи:"
   ]
  },
  {
   "cell_type": "code",
   "execution_count": 90,
   "metadata": {
    "collapsed": false
   },
   "outputs": [
    {
     "name": "stdout",
     "output_type": "stream",
     "text": [
      "1 loop, best of 3: 842 ms per loop\n"
     ]
    }
   ],
   "source": [
    "import multiprocessing\n",
    "\n",
    "NUM_PROCESSES = 16\n",
    "\n",
    "def worker(steps):\n",
    "    count = 0\n",
    "    for i in range(steps):\n",
    "        download()\n",
    "\n",
    "def run_worker_in_processes():    \n",
    "    processes = []\n",
    "\n",
    "    for i in range(NUM_PROCESSES):\n",
    "        p = multiprocessing.Process(target=worker, args=(STEPS//NUM_PROCESSES,))\n",
    "        processes.append(p)\n",
    "        p.start()\n",
    "\n",
    "    for p in processes:\n",
    "        p.join()\n",
    "\n",
    "%timeit -n1 run_worker_in_processes()"
   ]
  },
  {
   "cell_type": "markdown",
   "metadata": {},
   "source": [
    "Как мы видим - треды позволили получить лучший результат (Macbook Air 2011 - 64 треда).\n",
    "\n",
    "Чтобы упростить работу с тредами в Python есть модуль concurrent.futures: \n",
    "он предоставляет доступ к 2-м высокоуровневым объектам: ThreadPoolExecutor и ProcessPoolExecutor"
   ]
  },
  {
   "cell_type": "code",
   "execution_count": 192,
   "metadata": {
    "collapsed": false
   },
   "outputs": [
    {
     "name": "stdout",
     "output_type": "stream",
     "text": [
      "14 page is 383 bytes\n",
      "18 page is 383 bytes\n",
      "20 page is 383 bytes\n",
      "9 page is 383 bytes\n",
      "12 page is 382 bytes\n",
      "21 page is 383 bytes\n",
      "13 page is 383 bytes\n",
      "30 page is 382 bytes\n",
      "17 page is 383 bytes\n",
      "8 page is 383 bytes\n",
      "27 page is 383 bytes\n",
      "24 page is 383 bytes\n",
      "7 page is 383 bytes\n",
      "6 page is 382 bytes\n",
      "28 page is 381 bytes\n",
      "5 page is 382 bytes\n",
      "0 page is 382 bytes\n",
      "4 page is 382 bytes\n",
      "25 page is 383 bytes\n",
      "38 page is 383 bytes\n",
      "36 page is 382 bytes\n",
      "26 page is 382 bytes\n",
      "23 page is 383 bytes\n",
      "40 page is 383 bytes\n",
      "15 page is 381 bytes\n",
      "2 page is 383 bytes\n",
      "39 page is 383 bytes\n",
      "32 page is 383 bytes\n",
      "35 page is 383 bytes\n",
      "16 page is 383 bytes\n",
      "11 page is 383 bytes\n",
      "22 page is 383 bytes\n",
      "34 page is 382 bytes\n",
      "31 page is 383 bytes\n",
      "19 page is 383 bytes\n",
      "37 page is 383 bytes\n",
      "3 page is 381 bytes\n",
      "1 page is 383 bytes\n",
      "29 page is 381 bytes\n",
      "33 page is 383 bytes\n",
      "10 page is 383 bytes\n",
      "43 page is 382 bytes\n",
      "44 page is 383 bytes\n",
      "47 page is 383 bytes\n",
      "42 page is 382 bytes\n",
      "49 page is 382 bytes\n",
      "48 page is 383 bytes\n",
      "51 page is 383 bytes\n",
      "45 page is 383 bytes\n",
      "56 page is 383 bytes\n",
      "41 page is 383 bytes\n",
      "52 page is 383 bytes\n",
      "54 page is 381 bytes\n",
      "57 page is 382 bytes\n",
      "53 page is 383 bytes\n",
      "50 page is 382 bytes\n",
      "59 page is 383 bytes\n",
      "46 page is 383 bytes\n",
      "58 page is 382 bytes\n",
      "55 page is 383 bytes\n",
      "63 page is 382 bytes\n",
      "61 page is 382 bytes\n",
      "85 page is 383 bytes\n",
      "68 page is 382 bytes\n",
      "99 page is 383 bytes\n",
      "62 page is 383 bytes\n",
      "75 page is 383 bytes\n",
      "70 page is 383 bytes\n",
      "60 page is 383 bytes\n",
      "77 page is 383 bytes\n",
      "78 page is 382 bytes\n",
      "81 page is 383 bytes\n",
      "91 page is 382 bytes\n",
      "76 page is 382 bytes\n",
      "67 page is 383 bytes\n",
      "92 page is 381 bytes\n",
      "95 page is 382 bytes\n",
      "97 page is 383 bytes\n",
      "96 page is 383 bytes\n",
      "84 page is 382 bytes\n",
      "71 page is 383 bytes\n",
      "73 page is 383 bytes\n",
      "74 page is 383 bytes\n",
      "83 page is 383 bytes\n",
      "90 page is 382 bytes\n",
      "98 page is 383 bytes\n",
      "72 page is 382 bytes\n",
      "65 page is 382 bytes\n",
      "86 page is 382 bytes\n",
      "82 page is 383 bytes\n",
      "66 page is 383 bytes\n",
      "89 page is 383 bytes\n",
      "69 page is 382 bytes\n",
      "94 page is 383 bytes\n",
      "80 page is 383 bytes\n",
      "93 page is 383 bytes\n",
      "87 page is 383 bytes\n",
      "88 page is 382 bytes\n",
      "79 page is 382 bytes\n",
      "64 page is 381 bytes\n"
     ]
    }
   ],
   "source": [
    "import concurrent.futures\n",
    "import requests\n",
    "\n",
    "STEPS = 100\n",
    "\n",
    "def download():\n",
    "    return requests.get(\"http://127.0.0.1:8000\").text\n",
    "\n",
    "def run_in_executor():\n",
    "    executor = concurrent.futures.ThreadPoolExecutor(max_workers=64)\n",
    "\n",
    "    future_to_url = {executor.submit(download): i for i in range(STEPS)}\n",
    "    for future in concurrent.futures.as_completed(future_to_url):\n",
    "        i = future_to_url[future]\n",
    "        try:\n",
    "            data = future.result()\n",
    "        except Exception as exc:\n",
    "            print('%d generated an exception: %s' % (i, exc))\n",
    "        else:\n",
    "            print('%d page is %d bytes' % (i, len(data)))\n",
    "\n",
    "    executor.shutdown()\n",
    "\n",
    "run_in_executor()\n",
    "#%timeit -n1 run_in_executor()"
   ]
  },
  {
   "cell_type": "markdown",
   "metadata": {},
   "source": [
    "Аналогично можно использовать ProcessPoolExecutor, чтобы вынести работу в пул процессов. "
   ]
  },
  {
   "cell_type": "markdown",
   "metadata": {},
   "source": [
    "## Сложность многопоточных приложений"
   ]
  },
  {
   "cell_type": "code",
   "execution_count": 171,
   "metadata": {
    "collapsed": false
   },
   "outputs": [
    {
     "name": "stdout",
     "output_type": "stream",
     "text": [
      "1000000\n"
     ]
    }
   ],
   "source": [
    "counter = 0\n",
    "\n",
    "def worker(num):\n",
    "    global counter\n",
    "    for i in range(num):\n",
    "        counter += 1\n",
    "\n",
    "worker(1000000)\n",
    "\n",
    "print(counter)"
   ]
  },
  {
   "cell_type": "code",
   "execution_count": 150,
   "metadata": {
    "collapsed": false
   },
   "outputs": [
    {
     "name": "stdout",
     "output_type": "stream",
     "text": [
      "762581\n"
     ]
    }
   ],
   "source": [
    "import threading\n",
    "\n",
    "counter = 0\n",
    "\n",
    "def worker(num):\n",
    "    global counter\n",
    "    for i in range(num):\n",
    "        counter += 1\n",
    "\n",
    "threads = []\n",
    "for i in range(10):\n",
    "    t = threading.Thread(target=worker, args=(100000,))\n",
    "    threads.append(t)\n",
    "    t.start()\n",
    "\n",
    "for t in threads:\n",
    "    t.join()\n",
    "\n",
    "print(counter)"
   ]
  },
  {
   "cell_type": "code",
   "execution_count": 167,
   "metadata": {
    "collapsed": false
   },
   "outputs": [
    {
     "name": "stdout",
     "output_type": "stream",
     "text": [
      "1000000\n"
     ]
    }
   ],
   "source": [
    "import threading\n",
    "\n",
    "counter = 0\n",
    "lock = threading.Lock()\n",
    "\n",
    "def worker(num):\n",
    "    global counter\n",
    "    for i in range(num):\n",
    "        lock.acquire()\n",
    "        counter += 1\n",
    "        lock.release()\n",
    "\n",
    "threads = []\n",
    "for i in range(10):\n",
    "    t = threading.Thread(target=worker, args=(100000,))\n",
    "    threads.append(t)\n",
    "    t.start()\n",
    "\n",
    "for t in threads:\n",
    "    t.join()\n",
    "\n",
    "print(counter)"
   ]
  },
  {
   "cell_type": "code",
   "execution_count": 226,
   "metadata": {
    "collapsed": false
   },
   "outputs": [
    {
     "ename": "KeyboardInterrupt",
     "evalue": "",
     "output_type": "error",
     "traceback": [
      "\u001b[0;31m---------------------------------------------------------------------------\u001b[0m",
      "\u001b[0;31mKeyboardInterrupt\u001b[0m                         Traceback (most recent call last)",
      "\u001b[0;32m<ipython-input-226-8c0ff98f22b4>\u001b[0m in \u001b[0;36m<module>\u001b[0;34m()\u001b[0m\n\u001b[1;32m     17\u001b[0m     \u001b[0mlock\u001b[0m\u001b[0;34m.\u001b[0m\u001b[0mrelease\u001b[0m\u001b[0;34m(\u001b[0m\u001b[0;34m)\u001b[0m\u001b[0;34m\u001b[0m\u001b[0m\n\u001b[1;32m     18\u001b[0m \u001b[0;34m\u001b[0m\u001b[0m\n\u001b[0;32m---> 19\u001b[0;31m \u001b[0mworker\u001b[0m\u001b[0;34m(\u001b[0m\u001b[0;34m)\u001b[0m\u001b[0;34m\u001b[0m\u001b[0m\n\u001b[0m",
      "\u001b[0;32m<ipython-input-226-8c0ff98f22b4>\u001b[0m in \u001b[0;36mworker\u001b[0;34m()\u001b[0m\n\u001b[1;32m     13\u001b[0m     \u001b[0;32mglobal\u001b[0m \u001b[0mcounter\u001b[0m\u001b[0;34m\u001b[0m\u001b[0m\n\u001b[1;32m     14\u001b[0m     \u001b[0mlock\u001b[0m\u001b[0;34m.\u001b[0m\u001b[0macquire\u001b[0m\u001b[0;34m(\u001b[0m\u001b[0;34m)\u001b[0m\u001b[0;34m\u001b[0m\u001b[0m\n\u001b[0;32m---> 15\u001b[0;31m     \u001b[0mprint_counter\u001b[0m\u001b[0;34m(\u001b[0m\u001b[0;34m)\u001b[0m\u001b[0;34m\u001b[0m\u001b[0m\n\u001b[0m\u001b[1;32m     16\u001b[0m     \u001b[0mcounter\u001b[0m \u001b[0;34m+=\u001b[0m \u001b[0;36m1\u001b[0m\u001b[0;34m\u001b[0m\u001b[0m\n\u001b[1;32m     17\u001b[0m     \u001b[0mlock\u001b[0m\u001b[0;34m.\u001b[0m\u001b[0mrelease\u001b[0m\u001b[0;34m(\u001b[0m\u001b[0;34m)\u001b[0m\u001b[0;34m\u001b[0m\u001b[0m\n",
      "\u001b[0;32m<ipython-input-226-8c0ff98f22b4>\u001b[0m in \u001b[0;36mprint_counter\u001b[0;34m()\u001b[0m\n\u001b[1;32m      6\u001b[0m \u001b[0;34m\u001b[0m\u001b[0m\n\u001b[1;32m      7\u001b[0m \u001b[0;32mdef\u001b[0m \u001b[0mprint_counter\u001b[0m\u001b[0;34m(\u001b[0m\u001b[0;34m)\u001b[0m\u001b[0;34m:\u001b[0m\u001b[0;34m\u001b[0m\u001b[0m\n\u001b[0;32m----> 8\u001b[0;31m     \u001b[0mlock\u001b[0m\u001b[0;34m.\u001b[0m\u001b[0macquire\u001b[0m\u001b[0;34m(\u001b[0m\u001b[0;34m)\u001b[0m\u001b[0;34m\u001b[0m\u001b[0m\n\u001b[0m\u001b[1;32m      9\u001b[0m     \u001b[0mprint\u001b[0m\u001b[0;34m(\u001b[0m\u001b[0mcounter\u001b[0m\u001b[0;34m)\u001b[0m\u001b[0;34m\u001b[0m\u001b[0m\n\u001b[1;32m     10\u001b[0m     \u001b[0mlock\u001b[0m\u001b[0;34m.\u001b[0m\u001b[0mrelease\u001b[0m\u001b[0;34m(\u001b[0m\u001b[0;34m)\u001b[0m\u001b[0;34m\u001b[0m\u001b[0m\n",
      "\u001b[0;31mKeyboardInterrupt\u001b[0m: "
     ]
    }
   ],
   "source": [
    "# deadlock example\n",
    "import threading\n",
    "\n",
    "counter = 0\n",
    "lock = threading.Lock()\n",
    "\n",
    "def print_counter():\n",
    "    lock.acquire()\n",
    "    print(counter)\n",
    "    lock.release()\n",
    "\n",
    "def worker():\n",
    "    global counter\n",
    "    lock.acquire()\n",
    "    print_counter()\n",
    "    counter += 1\n",
    "    lock.release()\n",
    "    \n",
    "worker()"
   ]
  },
  {
   "cell_type": "markdown",
   "metadata": {
    "collapsed": true
   },
   "source": [
    "**Вернемся к примеру с загрузкой URL: можем ли мы сделать еще лучше?**\n",
    "\n",
    "* загружать странички еще быстрее\n",
    "* потреблять меньше памяти, не расходуя ее на создание потоков\n",
    "* не задумываться о синхронизации потоков"
   ]
  },
  {
   "cell_type": "markdown",
   "metadata": {},
   "source": [
    "# Асинхронное программирование\n",
    "\n",
    "Мотивация - IO-операции очень медленные, нужно заставить программу выполнять полезную работу во время ожидания ввода-вывода."
   ]
  },
  {
   "cell_type": "markdown",
   "metadata": {},
   "source": [
    "Сравнение Latency некоторых операций (https://gist.github.com/jboner/2841832)\n",
    "<table align=\"left\">\n",
    "    <tr>\n",
    "        <td>L1 CPU cache reference</td>\n",
    "        <td>0.5 ns</td>\n",
    "        <td></td>\n",
    "    </tr>\n",
    "    <tr>\n",
    "        <td>Main memory reference</td>\n",
    "        <td>100 ns</td>\n",
    "        <td>200x L1 cache</td>\n",
    "    </tr>\n",
    "    <tr>\n",
    "        <td>Read 1 MB sequentially from memory</td>\n",
    "        <td>250,000 ns (250 us)</td>\n",
    "        <td></td>\n",
    "    </tr>\n",
    "    <tr>\n",
    "        <td>Round trip within same datacenter</td>\n",
    "        <td>500,000 ns (500 us)</td>\n",
    "        <td></td>\n",
    "    </tr>\n",
    "    <tr>\n",
    "        <td>Read 1 MB sequentially from SSD*</td>\n",
    "        <td>1,000,000 ns (1,000 us, 1ms)</td>\n",
    "        <td></td>\n",
    "    </tr>\n",
    "    <tr>\n",
    "        <td>Read 1 MB sequentially from disk</td>\n",
    "        <td>20,000,000 ns (20,000 us, 20 ms)</td>\n",
    "        <td>80x memory, 20X SSD</td>\n",
    "    </tr>\n",
    "    <tr>\n",
    "        <td>Send packet CA->Netherlands->CA</td>\n",
    "        <td>150,000,000 ns (150,000 us, 150 ms)</td>\n",
    "        <td></td>\n",
    "    </tr>    \n",
    "</table>"
   ]
  },
  {
   "cell_type": "markdown",
   "metadata": {},
   "source": [
    "Вернемся к упрощенному варианту нашей программы, загружавшей URL в одном потоке синхронно."
   ]
  },
  {
   "cell_type": "code",
   "execution_count": 252,
   "metadata": {
    "collapsed": false
   },
   "outputs": [
    {
     "name": "stdout",
     "output_type": "stream",
     "text": [
      "Sending request 0\n",
      "Got response from request 0\n",
      "\n",
      "Sending request 1\n",
      "Got response from request 1\n",
      "\n",
      "Sending request 2\n",
      "Got response from request 2\n",
      "\n",
      "Sending request 3\n",
      "Got response from request 3\n",
      "\n",
      "Sending request 4\n",
      "Got response from request 4\n",
      "\n"
     ]
    }
   ],
   "source": [
    "import time\n",
    "\n",
    "def request(i):\n",
    "    print(\"Sending request %d\" % i)\n",
    "    time.sleep(1)\n",
    "    print(\"Got response from request %d\" % i)\n",
    "    print()\n",
    "\n",
    "for i in range(5):\n",
    "    request(i)"
   ]
  },
  {
   "cell_type": "markdown",
   "metadata": {},
   "source": [
    "На запрос тратится 1 секунда, и мы ждем 5 секунд на 5 запросов - а ведь могли бы отправить их друг за другом и через секунду получить результаты для всех и обработать."
   ]
  },
  {
   "cell_type": "markdown",
   "metadata": {},
   "source": [
    "## Генераторы"
   ]
  },
  {
   "cell_type": "markdown",
   "metadata": {},
   "source": [
    "Это функция, которая генерирует последовательность значений используя ключевое слово **yield**"
   ]
  },
  {
   "cell_type": "markdown",
   "metadata": {},
   "source": [
    "Самый простой пример:"
   ]
  },
  {
   "cell_type": "code",
   "execution_count": 214,
   "metadata": {
    "collapsed": false,
    "scrolled": true
   },
   "outputs": [
    {
     "name": "stdout",
     "output_type": "stream",
     "text": [
      "1\n",
      "2\n"
     ]
    },
    {
     "ename": "StopIteration",
     "evalue": "",
     "output_type": "error",
     "traceback": [
      "\u001b[0;31m---------------------------------------------------------------------------\u001b[0m",
      "\u001b[0;31mStopIteration\u001b[0m                             Traceback (most recent call last)",
      "\u001b[0;32m<ipython-input-214-a356859e67b4>\u001b[0m in \u001b[0;36m<module>\u001b[0;34m()\u001b[0m\n\u001b[1;32m      6\u001b[0m \u001b[0mprint\u001b[0m\u001b[0;34m(\u001b[0m\u001b[0mnext\u001b[0m\u001b[0;34m(\u001b[0m\u001b[0mgen\u001b[0m\u001b[0;34m)\u001b[0m\u001b[0;34m)\u001b[0m\u001b[0;34m\u001b[0m\u001b[0m\n\u001b[1;32m      7\u001b[0m \u001b[0mprint\u001b[0m\u001b[0;34m(\u001b[0m\u001b[0mnext\u001b[0m\u001b[0;34m(\u001b[0m\u001b[0mgen\u001b[0m\u001b[0;34m)\u001b[0m\u001b[0;34m)\u001b[0m\u001b[0;34m\u001b[0m\u001b[0m\n\u001b[0;32m----> 8\u001b[0;31m \u001b[0mprint\u001b[0m\u001b[0;34m(\u001b[0m\u001b[0mnext\u001b[0m\u001b[0;34m(\u001b[0m\u001b[0mgen\u001b[0m\u001b[0;34m)\u001b[0m\u001b[0;34m)\u001b[0m\u001b[0;34m\u001b[0m\u001b[0m\n\u001b[0m",
      "\u001b[0;31mStopIteration\u001b[0m: "
     ]
    }
   ],
   "source": [
    "def simple_gen():\n",
    "    yield 1\n",
    "    yield 2\n",
    "\n",
    "gen = simple_gen()\n",
    "print(next(gen))\n",
    "print(next(gen))\n",
    "print(next(gen))"
   ]
  },
  {
   "cell_type": "code",
   "execution_count": 215,
   "metadata": {
    "collapsed": false
   },
   "outputs": [
    {
     "name": "stdout",
     "output_type": "stream",
     "text": [
      "1\n",
      "2\n"
     ]
    }
   ],
   "source": [
    "gen = simple_gen()\n",
    "for i in gen:\n",
    "    print(i)"
   ]
  },
  {
   "cell_type": "markdown",
   "metadata": {},
   "source": [
    "Первый плюс: **получить значения, не загружая все элементы в память**. Яркий пример - range."
   ]
  },
  {
   "cell_type": "markdown",
   "metadata": {},
   "source": [
    "Чуть посложнее (с состоянием):"
   ]
  },
  {
   "cell_type": "code",
   "execution_count": 1,
   "metadata": {
    "collapsed": false,
    "scrolled": true
   },
   "outputs": [
    {
     "name": "stdout",
     "output_type": "stream",
     "text": [
      "0\n",
      "1\n",
      "1\n",
      "2\n",
      "3\n",
      "5\n"
     ]
    }
   ],
   "source": [
    "def fib():\n",
    "    a, b = 0, 1\n",
    "    while True:\n",
    "        yield a\n",
    "        a, b = b, a + b\n",
    "\n",
    "gen = fib()\n",
    "for i in range(6):\n",
    "    print(next(gen))"
   ]
  },
  {
   "cell_type": "markdown",
   "metadata": {},
   "source": [
    "Второй плюс: **получить значения сразу после того как они были вычислены**"
   ]
  },
  {
   "cell_type": "markdown",
   "metadata": {},
   "source": [
    "Корутины на основе генераторов:"
   ]
  },
  {
   "cell_type": "code",
   "execution_count": 217,
   "metadata": {
    "collapsed": false,
    "scrolled": true
   },
   "outputs": [
    {
     "name": "stdout",
     "output_type": "stream",
     "text": [
      "Hello\n",
      "World\n"
     ]
    }
   ],
   "source": [
    "def coro():\n",
    "    next_value = yield \"Hello\"\n",
    "    yield next_value\n",
    "\n",
    "c = coro()\n",
    "print(next(c))\n",
    "print(c.send(\"World\"))"
   ]
  },
  {
   "cell_type": "markdown",
   "metadata": {},
   "source": [
    "Можно работать с бесконечным потоком данных. Можно обмениваться результатами между отдельными генераторами по мере готовности - то есть иметь дело с несколькими параллельными задачами. При этом не обязательно эти задачи зависят друг от друга.\n",
    "\n",
    "Для более глубокого понимания и изучения других особенностей - http://www.dabeaz.com/finalgenerator/"
   ]
  },
  {
   "cell_type": "code",
   "execution_count": 253,
   "metadata": {
    "collapsed": false
   },
   "outputs": [
    {
     "name": "stdout",
     "output_type": "stream",
     "text": [
      "Sending request 0\n",
      "Sending request 1\n",
      "Sending request 2\n",
      "Sending request 3\n",
      "Sending request 4\n",
      "Got response from request 0\n",
      "Got response from request 1\n",
      "Got response from request 2\n",
      "Got response from request 3\n",
      "Got response from request 4\n"
     ]
    }
   ],
   "source": [
    "import time\n",
    "\n",
    "def request(i):\n",
    "    print(\"Sending request %d\" % i)\n",
    "    data = yield\n",
    "    print(\"Got response from request %d\" % i)\n",
    "\n",
    "generators = []\n",
    "\n",
    "for i in range(5):\n",
    "    gen = request(i)\n",
    "    generators.append(gen)\n",
    "    next(gen)\n",
    "\n",
    "time.sleep(1)\n",
    "\n",
    "for gen in generators:\n",
    "    try:\n",
    "        gen.send(\"data\")\n",
    "    except StopIteration:\n",
    "        pass\n"
   ]
  },
  {
   "cell_type": "markdown",
   "metadata": {
    "collapsed": true
   },
   "source": [
    "**В контексте лекции важно понять, что выполнение функции-генератора в Python можно приостановить, дождаться нужных данных, а затем продолжить выполнение с места прерывания. При этом сохраняется локальный контекст выполнения и пока мы ждем данных интерпретатор может заниматься другой полезной работой**"
   ]
  },
  {
   "cell_type": "markdown",
   "metadata": {},
   "source": [
    "## Asyncio"
   ]
  },
  {
   "cell_type": "markdown",
   "metadata": {},
   "source": [
    "Асинхронное программирование с использованием библиотеки asyncio строится вокруг понятия Event Loop - \"цикл событий\". Event loop является основным координатором в асинхронных программах на Python. Он отвечает за:\n",
    "\n",
    "* вызов нужных callback-функций в нужный момент\n",
    "* регистрацию отложенных вызовов\n",
    "* регистрацию таймеров\n",
    "\n",
    "Это позволяет писать программы так, что в момент блокирующих IO операций контекст выполнения будет переключаться на другие задачи, ждущие выполнения.\n",
    "\n",
    "Также в языке присутствуют специальные ключевые слова, позволяющие программировать в асинхронном стиле: **async** и **await**\n",
    "\n",
    "**async** - ключевое слово, позволяющее обозначить функцию как асинхронную (корутина, coroutine). Такая функция может прервать свое выполнение в определенной точке (на блокирующей операции), а затем, дождавшись результата этой операции, продолжить свое выполнение.\n",
    "\n",
    "**await** позволяет запустить такую функцию и дождаться результата.\n",
    "\n",
    "**Чтобы программа стала работать асинхронно нужно использовать примитивы, которые есть в библиотеке asyncio:**"
   ]
  },
  {
   "cell_type": "code",
   "execution_count": 260,
   "metadata": {
    "collapsed": false
   },
   "outputs": [
    {
     "name": "stdout",
     "output_type": "stream",
     "text": [
      "Sending request 0\n",
      "Sending request 2\n",
      "Sending request 3\n",
      "Sending request 4\n",
      "Sending request 1\n",
      "Got response from request 0\n",
      "Got response from request 2\n",
      "Got response from request 3\n",
      "Got response from request 4\n",
      "Got response from request 1\n"
     ]
    },
    {
     "data": {
      "text/plain": [
       "[None, None, None, None, None]"
      ]
     },
     "execution_count": 260,
     "metadata": {},
     "output_type": "execute_result"
    }
   ],
   "source": [
    "import asyncio\n",
    "\n",
    "async def get_data():\n",
    "    await asyncio.sleep(1)\n",
    "\n",
    "async def request(i):\n",
    "    print(\"Sending request %d\" % i)\n",
    "    data = await get_data()\n",
    "    print(\"Got response from request %d\" % i)\n",
    "\n",
    "loop = asyncio.get_event_loop()\n",
    "loop.run_until_complete(asyncio.gather(*[request(i) for i in range(5)]))"
   ]
  },
  {
   "cell_type": "markdown",
   "metadata": {},
   "source": [
    "Примеры других реализаций Event Loop'ов:\n",
    "\n",
    "* Tornado IOLoop (https://github.com/tornadoweb/tornado)\n",
    "* Twisted reactor (https://twistedmatrix.com/trac/)\n",
    "* pyuv (https://github.com/saghul/pyuv)\n",
    "* PyGame (http://pygame.org/hifi.html)\n",
    "* ..."
   ]
  },
  {
   "cell_type": "markdown",
   "metadata": {},
   "source": [
    "Мы еще вернемся к asyncio в лекции про интернет и клиент-серверные приложения. В том числе подробно посмотрим на сетевые операции - неблокирующее чтение и запись в сокеты.\n",
    "\n",
    "Список библиотек, написанных поверх asyncio - https://github.com/python/asyncio/wiki/ThirdParty"
   ]
  },
  {
   "cell_type": "code",
   "execution_count": 261,
   "metadata": {
    "collapsed": false
   },
   "outputs": [
    {
     "name": "stdout",
     "output_type": "stream",
     "text": [
      "1 loop, best of 3: 258 ms per loop\n"
     ]
    }
   ],
   "source": [
    "import aiohttp\n",
    "import asyncio\n",
    "\n",
    "STEPS = 100\n",
    "\n",
    "async def download():\n",
    "    async with aiohttp.get(\"http://127.0.0.1:8000\", loop=loop) as response:\n",
    "        return await response.text()\n",
    "\n",
    "async def worker(steps, loop):\n",
    "    await asyncio.gather(*[download() for x in range(steps)])\n",
    "\n",
    "loop = asyncio.get_event_loop()\n",
    "%timeit -n1 loop.run_until_complete(worker(STEPS, loop))"
   ]
  },
  {
   "cell_type": "markdown",
   "metadata": {
    "collapsed": true
   },
   "source": [
    "![title](img/g5.png)"
   ]
  },
  {
   "cell_type": "markdown",
   "metadata": {},
   "source": [
    "# Завершающий пример (asyncio + multiprocessing)"
   ]
  },
  {
   "cell_type": "code",
   "execution_count": 29,
   "metadata": {
    "collapsed": false
   },
   "outputs": [
    {
     "name": "stdout",
     "output_type": "stream",
     "text": [
      "1 loop, best of 3: 210 ms per loop\n"
     ]
    }
   ],
   "source": [
    "# asyncio + multiprocessing\n",
    "import aiohttp\n",
    "import asyncio\n",
    "import multiprocessing\n",
    "\n",
    "NUM_PROCESSES = 2\n",
    "\n",
    "STEPS = 100\n",
    "\n",
    "async def download(loop):\n",
    "    async with aiohttp.get(\"http://127.0.0.1:8000\", loop=loop) as response:\n",
    "        return await response.text()\n",
    "\n",
    "async def worker(steps, loop):\n",
    "    await asyncio.gather(*[download(loop) for x in range(steps)], loop=loop)\n",
    "\n",
    "def run(steps):\n",
    "    loop = asyncio.new_event_loop()\n",
    "    loop.run_until_complete(worker(steps, loop))\n",
    "\n",
    "def run_in_processes():    \n",
    "    processes = []\n",
    "\n",
    "    for i in range(NUM_PROCESSES):\n",
    "        p = multiprocessing.Process(target=run, args=(STEPS//NUM_PROCESSES,))\n",
    "        processes.append(p)\n",
    "        p.start()\n",
    "\n",
    "    for p in processes:\n",
    "        p.join()\n",
    "\n",
    "%timeit -n1 run_in_processes()"
   ]
  },
  {
   "cell_type": "code",
   "execution_count": null,
   "metadata": {
    "collapsed": true
   },
   "outputs": [],
   "source": []
  }
 ],
 "metadata": {
  "kernelspec": {
   "display_name": "Python 3",
   "language": "python",
   "name": "python3"
  },
  "language_info": {
   "codemirror_mode": {
    "name": "ipython",
    "version": 3
   },
   "file_extension": ".py",
   "mimetype": "text/x-python",
   "name": "python",
   "nbconvert_exporter": "python",
   "pygments_lexer": "ipython3",
   "version": "3.5.2"
  }
 },
 "nbformat": 4,
 "nbformat_minor": 0
}
